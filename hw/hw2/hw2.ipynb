{
 "cells": [
  {
   "cell_type": "markdown",
   "metadata": {},
   "source": [
    "# CPSC 330 - Applied Machine Learning \n",
    "\n",
    "## Homework 2: Decision trees and machine learning fundamentals \n",
    "### Associated lectures: [Lectures 2 and 3](https://github.com/UBC-CS/cpsc330-2021W2/tree/main/lectures) \n",
    "\n",
    "**Due date: Monday Jan 24, 2022 at 11:59pm**"
   ]
  },
  {
   "cell_type": "code",
   "execution_count": 1,
   "metadata": {},
   "outputs": [],
   "source": [
    "import matplotlib.pyplot as plt\n",
    "import numpy as np\n",
    "import pandas as pd\n",
    "\n",
    "plt.rcParams[\"font.size\"] = 16\n",
    "\n",
    "from sklearn.model_selection import cross_val_score, cross_validate, train_test_split\n",
    "from sklearn.tree import DecisionTreeClassifier"
   ]
  },
  {
   "cell_type": "markdown",
   "metadata": {},
   "source": [
    "## Instructions\n",
    "rubric={points:3}\n",
    "\n",
    "Follow the [homework submission instructions](https://github.com/UBC-CS/cpsc330/blob/master/docs/homework_instructions.md). In particular, **see the note about not pushing downloaded data to your repo**.\n",
    "\n",
    "You are allowed to work and submit in pairs in this homework assignment. "
   ]
  },
  {
   "cell_type": "markdown",
   "metadata": {},
   "source": [
    "## Introducing the data set\n",
    " \n",
    "For this  assignment you'll be looking at Kaggle's [Spotify Song Attributes](https://www.kaggle.com/geomack/spotifyclassification/) dataset.\n",
    "The dataset contains a number of features of songs from 2017 and a binary variable `target` that represents whether the user liked the song (encoded as 1) or not (encoded as 0). See the documentation of all the features [here](https://developer.spotify.com/documentation/web-api/reference/tracks/get-audio-features/). \n",
    "\n",
    "This dataset is publicly available on Kaggle, and you will have to download it yourself. Follow the steps below to get the data CSV. \n",
    "\n",
    "1. If you do not have an account with [Kaggle](https://www.kaggle.com/), you will first need to create one (it's free).\n",
    "2. Login to your account and [download](https://www.kaggle.com/geomack/spotifyclassification/download) the dataset.\n",
    "3. Unzip the data file if needed, then rename it to `spotify.csv`, and move it to the same directory as this notebook."
   ]
  },
  {
   "cell_type": "markdown",
   "metadata": {},
   "source": [
    "## Exercise 1: Exploratory data analysis"
   ]
  },
  {
   "cell_type": "markdown",
   "metadata": {
    "nbgrader": {
     "grade": false,
     "grade_id": "cell-d4d478b6cdc9bf88",
     "locked": true,
     "schema_version": 3,
     "solution": false
    }
   },
   "source": [
    "#### 1(a) \n",
    "rubric={points:2}\n",
    "\n",
    "Read in the data CSV and store it as a pandas dataframe named `spotify_df`. The first column of the .csv file should be set as the index. **Note:** you may need to change the name of the file if it does not match the download."
   ]
  },
  {
   "cell_type": "code",
   "execution_count": 2,
   "metadata": {
    "nbgrader": {
     "grade": true,
     "grade_id": "cell-4f3f14b59fd7e6b8",
     "locked": false,
     "points": 0,
     "schema_version": 3,
     "solution": true,
     "task": false
    }
   },
   "outputs": [],
   "source": [
    "spotify_df = pd.read_csv(\"spotify.csv\", index_col=0)"
   ]
  },
  {
   "cell_type": "markdown",
   "metadata": {},
   "source": [
    "Excluding the target, how many columns (potential features) does the dataset include?"
   ]
  },
  {
   "cell_type": "markdown",
   "metadata": {},
   "source": [
    "15"
   ]
  },
  {
   "cell_type": "markdown",
   "metadata": {},
   "source": [
    "#### 1(b)\n",
    "rubric={points:2}\n",
    "\n",
    "Run the following line of code to split the data. How many training and test examples do we have?\n",
    "\n",
    "> Note: we are setting the `random_state` so that everyone has the same split on their assignments. This will make it easier for the TAs to grade."
   ]
  },
  {
   "cell_type": "code",
   "execution_count": 3,
   "metadata": {},
   "outputs": [
    {
     "name": "stdout",
     "output_type": "stream",
     "text": [
      "       acousticness  danceability   duration_ms       energy  \\\n",
      "count   1613.000000   1613.000000  1.613000e+03  1613.000000   \n",
      "mean       0.185067      0.620076  2.462533e+05     0.681315   \n",
      "std        0.255838      0.161152  8.056740e+04     0.206964   \n",
      "min        0.000003      0.148000  1.604200e+04     0.015600   \n",
      "25%        0.010000      0.514000  1.999040e+05     0.564000   \n",
      "50%        0.062600      0.634000  2.298590e+05     0.712000   \n",
      "75%        0.260000      0.739000  2.703330e+05     0.841000   \n",
      "max        0.994000      0.984000  1.004627e+06     0.997000   \n",
      "\n",
      "       instrumentalness          key     liveness     loudness         mode  \\\n",
      "count       1613.000000  1613.000000  1613.000000  1613.000000  1613.000000   \n",
      "mean           0.134317     5.384377     0.191317    -7.095272     0.619343   \n",
      "std            0.274217     3.653722     0.156071     3.678993     0.485699   \n",
      "min            0.000000     0.000000     0.018800   -31.082000     0.000000   \n",
      "25%            0.000000     2.000000     0.092200    -8.388000     0.000000   \n",
      "50%            0.000088     6.000000     0.125000    -6.298000     1.000000   \n",
      "75%            0.055900     9.000000     0.250000    -4.833000     1.000000   \n",
      "max            0.976000    11.000000     0.969000    -0.718000     1.000000   \n",
      "\n",
      "       speechiness        tempo  time_signature      valence       target  \n",
      "count  1613.000000  1613.000000     1613.000000  1613.000000  1613.000000  \n",
      "mean      0.092119   121.310311        3.975201     0.495891     0.512089  \n",
      "std       0.088007    26.431574        0.247829     0.244267     0.500009  \n",
      "min       0.023100    47.859000        1.000000     0.037300     0.000000  \n",
      "25%       0.037500   100.221000        4.000000     0.298000     0.000000  \n",
      "50%       0.055300   121.241000        4.000000     0.492000     1.000000  \n",
      "75%       0.107000   136.894000        4.000000     0.689000     1.000000  \n",
      "max       0.622000   219.331000        5.000000     0.974000     1.000000  \n",
      "Column with maximum range is:  duration_ms\n"
     ]
    }
   ],
   "source": [
    "df_train, df_test = train_test_split(spotify_df, test_size=0.2, random_state=321)\n",
    "# print(\"Total Examples: \", len(spotify_df.index))\n",
    "# print(\"Train examples: \", len(df_train.index))\n",
    "# print(\"Test examples: \", len(df_test.index))\n",
    "df_train_describe = df_train.describe()\n",
    "print(df_train_describe)\n",
    "\n",
    "# print(df_train_describe.loc[\"max\", \"acousticness\"] - df_train_describe.loc[\"min\", \"acousticness\"])\n",
    "# print(df_train_describe.loc[\"max\", \"danceability\"] - df_train_describe.loc[\"min\", \"danceability\"])\n",
    "# print(df_train_describe.loc[\"max\", \"duration_ms\"] - df_train_describe.loc[\"min\", \"duration_ms\"])\n",
    "# print(df_train_describe.loc[\"max\", \"energy\"] - df_train_describe.loc[\"min\", \"energy\"])\n",
    "# print(df_train_describe.loc[\"max\", \"instrumentalness\"] - df_train_describe.loc[\"min\", \"instrumentalness\"])\n",
    "# print(df_train_describe.loc[\"max\", \"key\"] - df_train_describe.loc[\"min\", \"key\"])\n",
    "# print(df_train_describe.loc[\"max\", \"liveness\"] - df_train_describe.loc[\"min\", \"liveness\"])\n",
    "# print(df_train_describe.loc[\"max\", \"loudness\"] - df_train_describe.loc[\"min\", \"loudness\"])\n",
    "# print(df_train_describe.loc[\"max\", \"mode\"] - df_train_describe.loc[\"min\", \"mode\"])\n",
    "# print(df_train_describe.loc[\"max\", \"speechiness\"] - df_train_describe.loc[\"min\", \"speechiness\"])\n",
    "# print(df_train_describe.loc[\"max\", \"tempo\"] - df_train_describe.loc[\"min\", \"tempo\"])\n",
    "# print(df_train_describe.loc[\"max\", \"time_signature\"] - df_train_describe.loc[\"min\", \"time_signature\"])\n",
    "# print(df_train_describe.loc[\"max\", \"valence\"] - df_train_describe.loc[\"min\", \"valence\"])\n",
    "\n",
    "maxRange = -100000000000\n",
    "maxCol = ''\n",
    "\n",
    "for col in df_train_describe.columns:\n",
    "    if col == \"target\":\n",
    "        continue\n",
    "    colRange = df_train_describe.loc[\"max\", col] - df_train_describe.loc[\"min\", col]\n",
    "    if (colRange > maxRange):\n",
    "        maxCol = col\n",
    "        maxRange = colRange\n",
    "    \n",
    "print(\"Column with maximum range is: \", maxCol)\n",
    "\n"
   ]
  },
  {
   "cell_type": "markdown",
   "metadata": {},
   "source": [
    "There are 1613 training examples and 404 test examples."
   ]
  },
  {
   "cell_type": "markdown",
   "metadata": {},
   "source": [
    "#### 1(c)\n",
    "rubric={points:3}\n",
    "\n",
    "- Print out the output of `describe()` **on the training split**. This will compute some summary statistics of the numeric columns.\n",
    "- Which feature has the largest range? \n",
    "\n",
    "> Hint: You can subtract the min value from the max value of the column to get the range.\n",
    "\n",
    "Note that `describe` returns another DataFrame."
   ]
  },
  {
   "cell_type": "markdown",
   "metadata": {},
   "source": [
    "duration_ms has the largest range."
   ]
  },
  {
   "cell_type": "markdown",
   "metadata": {
    "nbgrader": {
     "grade": false,
     "grade_id": "cell-b33320bcf667584a",
     "locked": true,
     "schema_version": 3,
     "solution": false
    }
   },
   "source": [
    "#### 1(d) \n",
    "rubric={points:5}\n",
    "\n",
    "Let's focus on the following features:\n",
    "\n",
    "- danceability\n",
    "- tempo\n",
    "- energy\n",
    "- valence\n",
    "\n",
    "For each of these features (in order), produce a histogram that shows the distribution of the feature values in the training set, **separated for positive and negative examples**. \n",
    "By \"positive examples\" we mean target = 1 (user liked the song, positive sentiment) and by \"negative examples\" we mean target = 0 (used disliked the song, negative sentiment). As an example, here is what the histogram would look like for a different feature, loudness:\n",
    "\n"
   ]
  },
  {
   "cell_type": "markdown",
   "metadata": {},
   "source": [
    "<img src='loudness.png' width=\"400\">\n",
    "\n",
    "(You don't have to match all the details exactly, such as colour, but your histograms should look something like this, with a reasonable number of bins to see the shape of the distribution.) As shown above, there are two different histograms, one for target = 0 and one for target = 1, and they are overlaid on top of each other. The histogram above shows that extremely quiet songs tend to be disliked (more blue bars than orange on the left) and very loud songs also tend to be disliked (more blue than orange on the far right).\n",
    "\n",
    "To adhere to the [DRY (Don't Repeat Yourself)](https://en.wikipedia.org/wiki/Don%27t_repeat_yourself) principle, make sure you use a `for` loop for your plotting, rather than repeating the plotting code 4 times. For this to work, I used `plt.show()` at the end of the loop, which draws the figure and resets the canvas for your next plot."
   ]
  },
  {
   "cell_type": "markdown",
   "metadata": {},
   "source": [
    "Here is some code that separates out the dataset into positive and negative examples, to help you get started:"
   ]
  },
  {
   "cell_type": "code",
   "execution_count": 4,
   "metadata": {},
   "outputs": [
    {
     "data": {
      "image/png": "[encoded data removed]",
      "text/plain": [
       "<Figure size 432x288 with 1 Axes>"
      ]
     },
     "metadata": {
      "needs_background": "light"
     },
     "output_type": "display_data"
    },
    {
     "data": {
      "image/png": "[encoded data removed]",
      "text/plain": [
       "<Figure size 432x288 with 1 Axes>"
      ]
     },
     "metadata": {
      "needs_background": "light"
     },
     "output_type": "display_data"
    },
    {
     "data": {
      "image/png": "[encoded data removed]",
      "text/plain": [
       "<Figure size 432x288 with 1 Axes>"
      ]
     },
     "metadata": {
      "needs_background": "light"
     },
     "output_type": "display_data"
    },
    {
     "data": {
      "image/png": "[encoded data removed]",
      "text/plain": [
       "<Figure size 432x288 with 1 Axes>"
      ]
     },
     "metadata": {
      "needs_background": "light"
     },
     "output_type": "display_data"
    }
   ],
   "source": [
    "negative_examples = df_train.query(\"target == 0\")\n",
    "positive_examples = df_train.query(\"target == 1\")\n",
    "\n",
    "cols = [\"danceability\", \"tempo\", \"energy\", \"valence\"]\n",
    "\n",
    "for col in cols:\n",
    "    negative_col = negative_examples.loc[:, col]\n",
    "    positive_col = positive_examples.loc[:, col]\n",
    "    \n",
    "    plt.xlabel(col)\n",
    "    plt.ylabel(\"Count\")\n",
    "    plt.title(\"Histogram of \" + col + \" by target class\")\n",
    "    \n",
    "    # added opacity to make graph look similar to the example histogram given above\n",
    "    plt.hist(negative_col, label='0', alpha=0.3)\n",
    "    plt.hist(positive_col, label='1', alpha=0.7)\n",
    "    \n",
    "    plt.legend();\n",
    "    plt.show()"
   ]
  },
  {
   "cell_type": "markdown",
   "metadata": {},
   "source": []
  },
  {
   "cell_type": "markdown",
   "metadata": {},
   "source": [
    "#### 1(e)\n",
    "rubric={points:4}\n",
    "\n",
    "Let's say you had to make a decision stump (decision tree with depth 1), _by hand_, to predict the target class. Just from looking at the plots above, describe a reasonable split (feature name and threshold) and what class you would predict in the two cases. For example, in the loudness histogram provided earlier on, it seems that very large values of loudness are generally disliked (more blue on the right side of the histogram), so you might answer something like this: \"A reasonable split would be to predict 0 if loudness > -5 (and predict 1 otherwise).\""
   ]
  },
  {
   "cell_type": "markdown",
   "metadata": {},
   "source": [
    "danceability graph: \"A reasonable split would be to predict 0 if danceability < 0.65 (and predict 1 otherwise)\".\n",
    "tempo graph: \"A reasonable split would be to predict 0 if tempo < 110 (and predict 1 otherwise)\".\n",
    "energy graph: \"A reasonable split would be to predict 0 if energy < 0.3 (and predict 1 otherwise)\".\n",
    "valence graph: \"A reasonable split would be to predict 0 if valence < 0.6 (and predict 1 otherwise)\"."
   ]
  },
  {
   "cell_type": "markdown",
   "metadata": {
    "tags": []
   },
   "source": [
    "#### 1(f)\n",
    "rubric={points:2}\n",
    "\n",
    "Let's say that, for a particular feature, the histograms of that feature are identical for the two target classes. Does that mean the feature is not useful for predicting the target class?\n"
   ]
  },
  {
   "cell_type": "markdown",
   "metadata": {},
   "source": [
    "Yes, the feature by itself is not useful in predicting the target class because for the same feature value, we have both target classes (so we can not differentiate between the two classes)."
   ]
  },
  {
   "cell_type": "markdown",
   "metadata": {
    "nbgrader": {
     "grade": false,
     "grade_id": "cell-86f9e0c649669daf",
     "locked": true,
     "schema_version": 3,
     "solution": false,
     "task": false
    },
    "tags": []
   },
   "source": [
    "#### 1(g) \n",
    "rubric={points:2}\n",
    "\n",
    "Note that the dataset includes two free text features labeled `song_title` and `artist`:"
   ]
  },
  {
   "cell_type": "code",
   "execution_count": 5,
   "metadata": {},
   "outputs": [
    {
     "data": {
      "text/html": [
       "<div>\n",
       "<style scoped>\n",
       "    .dataframe tbody tr th:only-of-type {\n",
       "        vertical-align: middle;\n",
       "    }\n",
       "\n",
       "    .dataframe tbody tr th {\n",
       "        vertical-align: top;\n",
       "    }\n",
       "\n",
       "    .dataframe thead th {\n",
       "        text-align: right;\n",
       "    }\n",
       "</style>\n",
       "<table border=\"1\" class=\"dataframe\">\n",
       "  <thead>\n",
       "    <tr style=\"text-align: right;\">\n",
       "      <th></th>\n",
       "      <th>song_title</th>\n",
       "      <th>artist</th>\n",
       "    </tr>\n",
       "  </thead>\n",
       "  <tbody>\n",
       "    <tr>\n",
       "      <th>260</th>\n",
       "      <td>WTF (Where They From) [feat. Pharrell Williams]</td>\n",
       "      <td>Missy Elliott</td>\n",
       "    </tr>\n",
       "    <tr>\n",
       "      <th>1286</th>\n",
       "      <td>10,000 Reasons (Bless the Lord) [Radio Version]</td>\n",
       "      <td>Matt Redman</td>\n",
       "    </tr>\n",
       "    <tr>\n",
       "      <th>1344</th>\n",
       "      <td>American Dream</td>\n",
       "      <td>Chelsea Grin</td>\n",
       "    </tr>\n",
       "    <tr>\n",
       "      <th>1197</th>\n",
       "      <td>Feel This Moment</td>\n",
       "      <td>Pitbull</td>\n",
       "    </tr>\n",
       "    <tr>\n",
       "      <th>119</th>\n",
       "      <td>Trap Queen</td>\n",
       "      <td>Fetty Wap</td>\n",
       "    </tr>\n",
       "  </tbody>\n",
       "</table>\n",
       "</div>"
      ],
      "text/plain": [
       "                                           song_title         artist\n",
       "260   WTF (Where They From) [feat. Pharrell Williams]  Missy Elliott\n",
       "1286  10,000 Reasons (Bless the Lord) [Radio Version]    Matt Redman\n",
       "1344                                   American Dream   Chelsea Grin\n",
       "1197                                 Feel This Moment        Pitbull\n",
       "119                                        Trap Queen      Fetty Wap"
      ]
     },
     "execution_count": 5,
     "metadata": {},
     "output_type": "execute_result"
    }
   ],
   "source": [
    "df_train[[\"song_title\", \"artist\"]].head()"
   ]
  },
  {
   "cell_type": "markdown",
   "metadata": {},
   "source": [
    "- Do you think these features could be useful in predicting whether the user liked the song or not? \n",
    "- Would there be any difficulty in using them in your model?   "
   ]
  },
  {
   "cell_type": "markdown",
   "metadata": {
    "nbgrader": {
     "grade": true,
     "grade_id": "cell-dce517defdc16360",
     "locked": false,
     "points": 0,
     "schema_version": 3,
     "solution": true,
     "task": false
    }
   },
   "source": [
    "Artist could be a useful feature if we notice a particular artist has more targets = 1 compared to 0 => we can predict unseen music made by the artist who is already liked is more likely to also have more liked songs.\n",
    "\n",
    "I don't think song_title is useful in prediction because what users like depends on the sound (what the song sounds like), not the title of the song.\n",
    "\n",
    "There could be many difficulties involved such as whether people like every new song of an artist just becuase they like their previous music. While it is a good indicator, it isn't perfect.\n",
    "\n",
    "Incorporating song_title is the most problematic, because it has very little correlation to whether someone likes the song, unless the title is too extreme (inappropriately explicit or childish). Therefore, it is not a good indicator to generalize and could make our model overfit to specifc training data quirks."
   ]
  },
  {
   "cell_type": "markdown",
   "metadata": {},
   "source": [
    "<br><br>"
   ]
  },
  {
   "cell_type": "markdown",
   "metadata": {
    "nbgrader": {
     "grade": false,
     "grade_id": "cell-1440876fbc49ead5",
     "locked": true,
     "schema_version": 3,
     "solution": false,
     "task": false
    }
   },
   "source": [
    "## Exercise 2: Using sklearn to build a decision tree classifier"
   ]
  },
  {
   "cell_type": "markdown",
   "metadata": {
    "nbgrader": {
     "grade": false,
     "grade_id": "cell-706403e72adade4b",
     "locked": true,
     "schema_version": 3,
     "solution": false
    }
   },
   "source": [
    "#### 2(a) \n",
    "rubric={points:2}\n",
    "\n",
    "- Create `X_train` and `y_train` and `X_test` and `y_test` from `df_train` and `df_test` above. Skip the `song_title` and `artist` features for now. \n",
    "- Fit a `DecisionTreeClassifier` on the train set."
   ]
  },
  {
   "cell_type": "code",
   "execution_count": 6,
   "metadata": {
    "nbgrader": {
     "grade": true,
     "grade_id": "cell-859d4a70667da85d",
     "locked": false,
     "points": 0,
     "schema_version": 3,
     "solution": true,
     "task": false
    }
   },
   "outputs": [
    {
     "data": {
      "text/plain": [
       "DecisionTreeClassifier()"
      ]
     },
     "execution_count": 6,
     "metadata": {},
     "output_type": "execute_result"
    }
   ],
   "source": [
    "X_train = df_train.drop(columns=[\"target\", \"song_title\", \"artist\"])\n",
    "y_train = df_train[\"target\"]\n",
    "\n",
    "X_test = df_test.drop(columns=[\"target\", \"song_title\", \"artist\"])\n",
    "y_test = df_test[\"target\"]\n",
    "\n",
    "model = DecisionTreeClassifier()\n",
    "model.fit(X_train, y_train)"
   ]
  },
  {
   "cell_type": "markdown",
   "metadata": {
    "nbgrader": {
     "grade": false,
     "grade_id": "cell-43ac6f91bc3bd9da",
     "locked": true,
     "schema_version": 3,
     "solution": false
    }
   },
   "source": [
    "#### 2(b)\n",
    "rubric={points:2}\n",
    "\n",
    "Use the `predict` method to predict the class of the tenth example in your `X_train`. Is the prediction correct? That is, does it match with the corresponding class in `y_train`?  \n",
    "\n",
    "> Hint: you can grab the tenth example with `X_train.iloc[[9]]`."
   ]
  },
  {
   "cell_type": "code",
   "execution_count": 7,
   "metadata": {},
   "outputs": [
    {
     "name": "stdout",
     "output_type": "stream",
     "text": [
      "[1]\n",
      "1\n"
     ]
    }
   ],
   "source": [
    "print(model.predict(X_train.iloc[[9]]))\n",
    "print(y_train[9])"
   ]
  },
  {
   "cell_type": "markdown",
   "metadata": {},
   "source": [
    "Yes, the prediction of target = 1 is correct (it matches y_train)."
   ]
  },
  {
   "cell_type": "markdown",
   "metadata": {},
   "source": [
    "#### 2(c) \n",
    "rubric={points:2}\n",
    "\n",
    "Use the `cross_val_score` function on your training set to compute the 10-fold cross-validation accuracy of your tree. "
   ]
  },
  {
   "cell_type": "code",
   "execution_count": 8,
   "metadata": {},
   "outputs": [
    {
     "name": "stdout",
     "output_type": "stream",
     "text": [
      "[0.69753086 0.61728395 0.66049383 0.72670807 0.73913043 0.60869565\n",
      " 0.72670807 0.72670807 0.65217391 0.67701863]\n"
     ]
    }
   ],
   "source": [
    "# gives us validation scores for all 10 folds\n",
    "cv_scores = cross_val_score(model, X_train, y_train, cv=10)\n",
    "print(cv_scores)"
   ]
  },
  {
   "cell_type": "markdown",
   "metadata": {},
   "source": [
    "#### 2(d)\n",
    "rubric={points:2}\n",
    "\n",
    "The above is useful, but we would like to see the training accuracy as well. \n",
    "\n",
    "- Compute the 10-fold cross-validation again but this time using the `cross_validate` function with `return_train_score=True`. \n",
    "- Print out both the cross-validation score and the training score.\n",
    "- Is your cross-validation score exactly the same as what you got in the previous part? Very briefly discuss."
   ]
  },
  {
   "cell_type": "code",
   "execution_count": 9,
   "metadata": {},
   "outputs": [
    {
     "name": "stdout",
     "output_type": "stream",
     "text": [
      "   test_score\n",
      "0    0.672840\n",
      "1    0.617284\n",
      "2    0.672840\n",
      "3    0.739130\n",
      "4    0.751553\n",
      "5    0.614907\n",
      "6    0.751553\n",
      "7    0.757764\n",
      "8    0.633540\n",
      "9    0.708075\n",
      "   train_score\n",
      "0     0.999311\n",
      "1     0.998622\n",
      "2     0.999311\n",
      "3     0.998623\n",
      "4     0.998623\n",
      "5     0.998623\n",
      "6     0.998623\n",
      "7     0.999311\n",
      "8     0.999311\n",
      "9     0.998623\n"
     ]
    }
   ],
   "source": [
    "# gives us validation scores for all 10 folds\n",
    "cross_valid_scores = cross_validate(model, X_train, y_train, cv=10, return_train_score=True)\n",
    "df_cross_valid_scores = pd.DataFrame(cross_valid_scores)\n",
    "print(df_cross_valid_scores[[\"test_score\"]])\n",
    "print(df_cross_valid_scores[[\"train_score\"]])"
   ]
  },
  {
   "cell_type": "markdown",
   "metadata": {},
   "source": [
    "No, the cross-validation scores are not exactly the same as the previous part. This is likely because the fold are calculated randomly every time the function is called."
   ]
  },
  {
   "cell_type": "markdown",
   "metadata": {},
   "source": [
    "#### 2(e)\n",
    "rubric={points:1}\n",
    "\n",
    "Do you see a significant difference between the training score and the cross-validation score? Briefly discuss."
   ]
  },
  {
   "cell_type": "markdown",
   "metadata": {
    "nbgrader": {
     "grade": true,
     "grade_id": "cell-a89757274fc5586f",
     "locked": false,
     "points": 0,
     "schema_version": 3,
     "solution": true,
     "task": false
    }
   },
   "source": [
    "Yes, the training scores are much higher than the cross_validation scores. This is because no depth is specified to the model, so it is boundless. This will result in an overfit model that is extremely specialized in the training data but unable to generalize well with validation data."
   ]
  },
  {
   "cell_type": "markdown",
   "metadata": {},
   "source": [
    "#### 2(f)\n",
    "rubric={points:1}\n",
    "\n",
    "Inspect the 10 sub-scores from the 10 folds of cross-validation. How does this inform the trustworthiness of your cross validation score?"
   ]
  },
  {
   "cell_type": "code",
   "execution_count": 10,
   "metadata": {},
   "outputs": [
    {
     "name": "stdout",
     "output_type": "stream",
     "text": [
      "   test_score\n",
      "0    0.672840\n",
      "1    0.617284\n",
      "2    0.672840\n",
      "3    0.739130\n",
      "4    0.751553\n",
      "5    0.614907\n",
      "6    0.751553\n",
      "7    0.757764\n",
      "8    0.633540\n",
      "9    0.708075\n"
     ]
    }
   ],
   "source": [
    "print(df_cross_valid_scores[[\"test_score\"]])"
   ]
  },
  {
   "cell_type": "markdown",
   "metadata": {
    "nbgrader": {
     "grade": true,
     "grade_id": "cell-a89757274fc5586f",
     "locked": false,
     "points": 0,
     "schema_version": 3,
     "solution": true,
     "task": false
    }
   },
   "source": [
    "The scores lie between 0.59 and 0.75. These scores are quite low especially compared to the training score, and thus aren't trustiworthy enough to predict test and unseen data."
   ]
  },
  {
   "cell_type": "markdown",
   "metadata": {
    "nbgrader": {
     "grade": false,
     "grade_id": "cell-4150979c1845a18c",
     "locked": true,
     "schema_version": 3,
     "solution": false,
     "task": false
    }
   },
   "source": [
    "## Exercise 3: Hyperparameters \n",
    "rubric={points:10}\n",
    "\n",
    "In this exercise, you'll experiment with the `max_depth` hyperparameter of the decision tree classifier. See the [`DecisionTreeClassifier` documentation](https://scikit-learn.org/stable/modules/generated/sklearn.tree.DecisionTreeClassifier.html) for more details.\n",
    "\n",
    "- Explore the `max_depth` hyperparameter. Run 10-fold cross-validation for trees with different values of `max_depth` (at least 10 different values in the range 1 to 25).\n",
    "- For each `max_depth`, get both the train accuracy and the cross-validation accuracy.\n",
    "- Make a plot with `max_depth` on the *x*-axis and the train and cross-validation scores on the *y*-axis. That is, your plot should have two curves, one for train and one for cross-validation. Include a legend to specify which is which.\n",
    "- Discuss how changing the `max_depth` hyperparameter affects the training and cross-validation accuracy. From these results, what depth would you pick as the optimal depth? \n",
    "- Do you think that the depth you chose would generalize to other \"spotify\" datasets (i.e., data on other spotify users)?\n",
    "\n",
    "> Note: generally speaking (for all assignments) you are welcome to copy/paste code directly from the lecture notes, though I ask that you add a small citation (e.g. \"Adapted from lecture 2\") if you do so."
   ]
  },
  {
   "cell_type": "code",
   "execution_count": 14,
   "metadata": {},
   "outputs": [
    {
     "name": "stdout",
     "output_type": "stream",
     "text": [
      "[1, 2, 3, 4, 5, 6, 7, 8, 9, 10, 11, 12, 13, 14, 15, 16, 17, 18, 19, 20, 21, 22, 23, 24, 25]\n"
     ]
    },
    {
     "data": {
      "image/png": "[encoded data removed]",
      "text/plain": [
       "<Figure size 432x288 with 1 Axes>"
      ]
     },
     "metadata": {
      "needs_background": "light"
     },
     "output_type": "display_data"
    }
   ],
   "source": [
    "depths = list(range(1,26))\n",
    "mean_cv_score_arr = []\n",
    "mean_train_score_arr = []\n",
    "\n",
    "\n",
    "print(depths)\n",
    "\n",
    "for depth in depths:\n",
    "    hyper_model = DecisionTreeClassifier(max_depth=depth)\n",
    "    hyper_cv_scores = cross_validate(hyper_model, X_train, y_train, cv=10, return_train_score=True)\n",
    "    \n",
    "    df_hyper_scores = pd.DataFrame(hyper_cv_scores)\n",
    "    df_hyper_scores_descript = df_hyper_scores.describe()\n",
    "    \n",
    "    mean_cv_score_arr.append(df_hyper_scores_descript.loc[\"mean\", \"test_score\"])\n",
    "    mean_train_score_arr.append(df_hyper_scores_descript.loc[\"mean\", \"train_score\"])\n",
    "\n",
    "    \n",
    "# graph the data\n",
    "plt.xlabel(\"Depth\")\n",
    "plt.ylabel(\"Score\")\n",
    "plt.title(\"Score vs Depth of 10-fold cross validation\")\n",
    "    \n",
    "plt.plot(mean_cv_score_arr, label='mean_cv_score')\n",
    "plt.plot(mean_train_score_arr, label='mean_train_score')\n",
    "    \n",
    "plt.legend();\n",
    "plt.show()"
   ]
  },
  {
   "cell_type": "markdown",
   "metadata": {},
   "source": [
    "Q1) Discuss how changing the max_depth hyperparameter affects the training and cross-validation accuracy. From these results, what depth would you pick as the optimal depth?\n",
    "ANS1) Increasing the max_depth hyperparameter increases the training accuracy drastically as it plateaus near 0.98-0.99 at about depth 15. Also, the increasing the max_depth intially from 0-3 causes the validation accuracy to peak, after that point, the validation score decreases gradually with higher and higher depth.\n",
    "\n",
    "I would pick depth 3 as the optimal depth because this is the cross-validation peak accuracy, making it the best candidate/model for test/unseen data.\n",
    "\n",
    "Q2) Do you think that the depth you chose would generalize to other \"spotify\" datasets (i.e., data on other spotify users)?\n",
    "ANS2)Yes, I believe a depth of 3 is not very complex and specialized to the training data, thereby allowing it generalize other \"spotify\" datasets."
   ]
  },
  {
   "cell_type": "markdown",
   "metadata": {},
   "source": [
    "## Exercise 4: Test set\n",
    "rubric={points:4}\n",
    "\n",
    "Remember the test set you created way back at the beginning of this assignment? Let's use it now to see if our cross-validation score from the previous exercise is trustworthy. \n",
    "\n",
    "- Select your favorite `max_depth` from the previous part.\n",
    "- Train a decision tree classifier using that `max_depth` on the _entire training set_.\n",
    "- Compute and display the test score. \n",
    "- How does it compare to the cross-validation score from the previous exercise? Briefly discuss. "
   ]
  },
  {
   "cell_type": "code",
   "execution_count": null,
   "metadata": {
    "tags": []
   },
   "outputs": [],
   "source": [
    "added"
   ]
  },
  {
   "cell_type": "markdown",
   "metadata": {},
   "source": []
  },
  {
   "cell_type": "markdown",
   "metadata": {},
   "source": [
    "## Exercise 5: Conceptual questions\n",
    "rubric={points:3}\n",
    "\n",
    "Consider the dataset below, which has $6$ examples and $2$ features:\n",
    "\n",
    "$$ X = \\begin{bmatrix}5 & 2\\\\4 & 3\\\\  2 & 2\\\\ 10 & 10\\\\ 9 & -1\\\\ 9& 9\\end{bmatrix}, \\quad y = \\begin{bmatrix}-1\\\\-1\\\\-1\\\\-1\\\\+1\\\\+1\\end{bmatrix}.$$\n",
    "\n",
    "1. Say we fit a decision stump (depth 1 decision tree) and the first split is on the first feature (left column) being less than 5.5. What would we predict in the \"true\" and \"false\" cases here?\n",
    "2. What training accuracy would the above stump get on this data set?\n",
    "3. Can we obtain 100% accuracy with a single decision stump in this particular example?"
   ]
  },
  {
   "cell_type": "markdown",
   "metadata": {},
   "source": []
  },
  {
   "cell_type": "markdown",
   "metadata": {},
   "source": [
    "## Submission instructions \n",
    "\n",
    "**PLEASE READ:** When you are ready to submit your assignment do the following:\n",
    "\n",
    "1. Run all cells in your notebook to make sure there are no errors by doing `Kernel -> Restart Kernel and Clear All Outputs` and then `Run -> Run All Cells`. \n",
    "2. Notebooks with cell execution numbers out of order or not starting from “1” will have marks deducted. Notebooks without the output displayed may not be graded at all (because we need to see the output in order to grade your work).\n",
    "3. Upload the assignment using Gradescope's drag and drop tool. Check out this [Gradescope Student Guide](https://lthub.ubc.ca/guides/gradescope-student-guide/) if you need help with Gradescope submission. "
   ]
  }
 ],
 "metadata": {
  "anaconda-cloud": {},
  "celltoolbar": "Create Assignment",
  "kernelspec": {
   "display_name": "Python [conda env:cpsc330]",
   "language": "python",
   "name": "conda-env-cpsc330-py"
  },
  "language_info": {
   "codemirror_mode": {
    "name": "ipython",
    "version": 3
   },
   "file_extension": ".py",
   "mimetype": "text/x-python",
   "name": "python",
   "nbconvert_exporter": "python",
   "pygments_lexer": "ipython3",
   "version": "3.9.9"
  }
 },
 "nbformat": 4,
 "nbformat_minor": 4
}
