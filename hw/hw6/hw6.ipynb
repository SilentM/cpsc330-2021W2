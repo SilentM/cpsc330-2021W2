{
 "cells": [
  {
   "cell_type": "markdown",
   "metadata": {},
   "source": [
    "# CPSC 330 - Applied Machine Learning \n",
    "\n",
    "## Homework 6: Putting it all together \n",
    "### Associated lectures: All material till lecture 13 \n",
    "\n",
    "**Due date: Monday, November 15, 2021 at 11:59pm**"
   ]
  },
  {
   "cell_type": "markdown",
   "metadata": {},
   "source": [
    "## Table of contents\n",
    "\n",
    "- [Submission instructions](#si)\n",
    "- [Understanding the problem](#1)\n",
    "- [Data splitting](#2)\n",
    "- [EDA](#3)\n",
    "- (Optional) [Feature engineering](#4)\n",
    "- [Preprocessing and transformations](#5)\n",
    "- [Baseline model](#6)\n",
    "- [Linear models](#7)\n",
    "- [Different classifiers](#8)\n",
    "- (Optional) [Feature selection](#9)\n",
    "- [Hyperparameter optimization](#10)\n",
    "- [Interpretation and feature importances](#11)\n",
    "- [Results on the test set](#12)\n",
    "- (Optional) [Explaining predictions](#13)\n",
    "- [Summary of the results](#14)"
   ]
  },
  {
   "cell_type": "markdown",
   "metadata": {},
   "source": [
    "## Imports "
   ]
  },
  {
   "cell_type": "code",
   "execution_count": 1,
   "metadata": {},
   "outputs": [],
   "source": [
    "import os\n",
    "\n",
    "%matplotlib inline\n",
    "import sys\n",
    "\n",
    "import matplotlib.pyplot as plt\n",
    "import numpy as np\n",
    "import pandas as pd\n",
    "import seaborn as sns\n",
    "import xgboost as xgb\n",
    "from sklearn.compose import ColumnTransformer, make_column_transformer\n",
    "from sklearn.dummy import DummyClassifier\n",
    "from sklearn.ensemble import RandomForestClassifier\n",
    "from sklearn.impute import SimpleImputer\n",
    "from sklearn.linear_model import LogisticRegression\n",
    "from sklearn.metrics import (\n",
    "    classification_report,\n",
    "    confusion_matrix,\n",
    "    f1_score,\n",
    "    make_scorer,\n",
    "    plot_confusion_matrix,\n",
    ")\n",
    "from sklearn.model_selection import (\n",
    "    GridSearchCV,\n",
    "    RandomizedSearchCV,\n",
    "    cross_val_score,\n",
    "    cross_validate,\n",
    "    train_test_split,\n",
    ")\n",
    "from sklearn.pipeline import Pipeline, make_pipeline\n",
    "from sklearn.preprocessing import OneHotEncoder, OrdinalEncoder, StandardScaler\n",
    "from sklearn.svm import SVC\n",
    "\n",
    "from sklearn.ensemble import RandomForestClassifier\n",
    "from lightgbm.sklearn import LGBMClassifier\n",
    "from sklearn import set_config\n"
   ]
  },
  {
   "cell_type": "markdown",
   "metadata": {},
   "source": [
    "<br><br>"
   ]
  },
  {
   "cell_type": "markdown",
   "metadata": {},
   "source": [
    "## Instructions \n",
    "<hr>\n",
    "rubric={points:2}\n",
    "\n",
    "Follow the [homework submission instructions](https://github.com/UBC-CS/cpsc330/blob/master/docs/homework_instructions.md). \n",
    "\n",
    "**You may work on this homework in a group and submit your assignment as a group.** Below are some instructions on working as a group.  \n",
    "- The maximum group size is 2. \n",
    "- Use group work as an opportunity to collaborate and learn new things from each other. \n",
    "- Be respectful to each other and make sure you understand all the concepts in the assignment well. \n",
    "- It's your responsibility to make sure that the assignment is submitted by one of the group members before the deadline. \n",
    "- You can find the instructions on how to do group submission on Gradescope [here](https://help.gradescope.com/article/m5qz2xsnjy-student-add-group-members)."
   ]
  },
  {
   "cell_type": "markdown",
   "metadata": {},
   "source": [
    "<br><br>"
   ]
  },
  {
   "cell_type": "markdown",
   "metadata": {},
   "source": [
    "## Introduction <a name=\"in\"></a>\n",
    "<hr>\n",
    "\n",
    "At this point we are at the end of supervised machine learning part of the course. So in this homework, you will be working on an open-ended mini-project, where you will put all the different things you have learned so far together to solve an interesting problem.\n",
    "\n",
    "A few notes and tips when you work on this mini-project: \n",
    "\n",
    "#### Tips\n",
    "\n",
    "1. This mini-project is open-ended, and while working on it, there might be some situations where you'll have to use your own judgment and make your own decisions (as you would be doing when you work as a data scientist). Make sure you explain your decisions whenever necessary. \n",
    "2. **Do not include everything you ever tried in your submission** -- it's fine just to have your final code. That said, your code should be reproducible and well-documented. For example, if you chose your hyperparameters based on some hyperparameter optimization experiment, you should leave in the code for that experiment so that someone else could re-run it and obtain the same hyperparameters, rather than mysteriously just setting the hyperparameters to some (carefully chosen) values in your code. \n",
    "3. If you realize that you are repeating a lot of code try to organize it in functions. Clear presentation of your code, experiments, and results is the key to be successful in this lab. You may use code from lecture notes or previous lab solutions with appropriate attributions. \n",
    "4. If you are having trouble running models on your laptop because of the size of the dataset, you can create your train/test split in such a way that you have less data in the train split. If you end up doing this, please write a note to the grader in the submission explaining why you are doing it.  \n",
    "\n",
    "#### Assessment\n",
    "\n",
    "We plan to grade fairly and leniently. We don't have some secret target score that you need to achieve to get a good grade. **You'll be assessed on demonstration of mastery of course topics, clear presentation, and the quality of your analysis and results.** For example, if you just have a bunch of code and no text or figures, that's not good. If you do a bunch of sane things and get a lower accuracy than your friend, don't sweat it.\n",
    "\n",
    "#### A final note\n",
    "\n",
    "Finally, this style of this \"project\" question is different from other assignments. It'll be up to you to decide when you're \"done\" -- in fact, this is one of the hardest parts of real projects. But please don't spend WAY too much time on this... perhaps \"a few hours\" (4-10 hours) is a good guideline for a typical submission. Of course if you're having fun you're welcome to spend as much time as you want! But, if so, try not to do it out of perfectionism or getting the best possible grade. Do it because you're learning and enjoying it. Students from the past cohorts have found such kind of labs useful and fun and I hope you enjoy it as well. "
   ]
  },
  {
   "cell_type": "markdown",
   "metadata": {},
   "source": [
    "<br><br>"
   ]
  },
  {
   "cell_type": "markdown",
   "metadata": {},
   "source": [
    "## 1. Understanding the problem <a name=\"1\"></a>\n",
    "<hr>\n",
    "rubric={points:4}\n",
    "\n",
    "In this mini project, you will be working on a classification problem of predicting whether a credit card client will default or not. \n",
    "For this problem, you will use [Default of Credit Card Clients Dataset](https://www.kaggle.com/uciml/default-of-credit-card-clients-dataset). In this data set, there are 30,000 examples and 24 features, and the goal is to estimate whether a person will default (fail to pay) their credit card bills; this column is labeled \"default.payment.next.month\" in the data. The rest of the columns can be used as features. You may take some ideas and compare your results with [the associated research paper](https://www.sciencedirect.com/science/article/pii/S0957417407006719), which is available through [the UBC library](https://www.library.ubc.ca/). \n",
    "\n",
    "**Your tasks:**\n",
    "\n",
    "1. Spend some time understanding the problem and what each feature means. You can find this information in the documentation on [the dataset page on Kaggle](https://www.kaggle.com/uciml/default-of-credit-card-clients-dataset). Write a few sentences on your initial thoughts on the problem and the dataset. \n",
    "2. Download the dataset and read it as a pandas dataframe. "
   ]
  },
  {
   "cell_type": "markdown",
   "metadata": {},
   "source": [
    "1) Given various demographic details about Taiwanese credit card holders between April-September 2005, we have to create machine learning model that can accurately predict whether a person would default their credit card payment or not. We are given demographic (age, sex, marital status, etc) and behaviour data (payment status, payment amount, bill amount, etc). I think this dataset has all the relevant features needed to predict the target of defaulting or not."
   ]
  },
  {
   "cell_type": "code",
   "execution_count": 2,
   "metadata": {},
   "outputs": [
    {
     "name": "stdout",
     "output_type": "stream",
     "text": [
      "          ID  LIMIT_BAL  SEX  EDUCATION  MARRIAGE  AGE  PAY_0  PAY_2  PAY_3  \\\n",
      "0          1    20000.0    2          2         1   24      2      2     -1   \n",
      "1          2   120000.0    2          2         2   26     -1      2      0   \n",
      "2          3    90000.0    2          2         2   34      0      0      0   \n",
      "3          4    50000.0    2          2         1   37      0      0      0   \n",
      "4          5    50000.0    1          2         1   57     -1      0     -1   \n",
      "...      ...        ...  ...        ...       ...  ...    ...    ...    ...   \n",
      "29995  29996   220000.0    1          3         1   39      0      0      0   \n",
      "29996  29997   150000.0    1          3         2   43     -1     -1     -1   \n",
      "29997  29998    30000.0    1          2         2   37      4      3      2   \n",
      "29998  29999    80000.0    1          3         1   41      1     -1      0   \n",
      "29999  30000    50000.0    1          2         1   46      0      0      0   \n",
      "\n",
      "       PAY_4  ...  BILL_AMT4  BILL_AMT5  BILL_AMT6  PAY_AMT1  PAY_AMT2  \\\n",
      "0         -1  ...        0.0        0.0        0.0       0.0     689.0   \n",
      "1          0  ...     3272.0     3455.0     3261.0       0.0    1000.0   \n",
      "2          0  ...    14331.0    14948.0    15549.0    1518.0    1500.0   \n",
      "3          0  ...    28314.0    28959.0    29547.0    2000.0    2019.0   \n",
      "4          0  ...    20940.0    19146.0    19131.0    2000.0   36681.0   \n",
      "...      ...  ...        ...        ...        ...       ...       ...   \n",
      "29995      0  ...    88004.0    31237.0    15980.0    8500.0   20000.0   \n",
      "29996     -1  ...     8979.0     5190.0        0.0    1837.0    3526.0   \n",
      "29997     -1  ...    20878.0    20582.0    19357.0       0.0       0.0   \n",
      "29998      0  ...    52774.0    11855.0    48944.0   85900.0    3409.0   \n",
      "29999      0  ...    36535.0    32428.0    15313.0    2078.0    1800.0   \n",
      "\n",
      "       PAY_AMT3  PAY_AMT4  PAY_AMT5  PAY_AMT6  default.payment.next.month  \n",
      "0           0.0       0.0       0.0       0.0                           1  \n",
      "1        1000.0    1000.0       0.0    2000.0                           1  \n",
      "2        1000.0    1000.0    1000.0    5000.0                           0  \n",
      "3        1200.0    1100.0    1069.0    1000.0                           0  \n",
      "4       10000.0    9000.0     689.0     679.0                           0  \n",
      "...         ...       ...       ...       ...                         ...  \n",
      "29995    5003.0    3047.0    5000.0    1000.0                           0  \n",
      "29996    8998.0     129.0       0.0       0.0                           0  \n",
      "29997   22000.0    4200.0    2000.0    3100.0                           1  \n",
      "29998    1178.0    1926.0   52964.0    1804.0                           1  \n",
      "29999    1430.0    1000.0    1000.0    1000.0                           1  \n",
      "\n",
      "[30000 rows x 25 columns]\n"
     ]
    }
   ],
   "source": [
    "df = pd.read_csv(\"UCI_Credit_Card.csv\", encoding=\"utf-8\")\n",
    "print(df)"
   ]
  },
  {
   "cell_type": "markdown",
   "metadata": {},
   "source": [
    "<br><br>"
   ]
  },
  {
   "cell_type": "markdown",
   "metadata": {},
   "source": [
    "## 2. Data splitting <a name=\"2\"></a>\n",
    "<hr>\n",
    "rubric={points:2}\n",
    "\n",
    "**Your tasks:**\n",
    "\n",
    "1. Split the data into train and test portions. "
   ]
  },
  {
   "cell_type": "markdown",
   "metadata": {},
   "source": []
  },
  {
   "cell_type": "code",
   "execution_count": 3,
   "metadata": {},
   "outputs": [
    {
     "name": "stdout",
     "output_type": "stream",
     "text": [
      "          ID  LIMIT_BAL  SEX  EDUCATION  MARRIAGE  AGE  PAY_0  PAY_2  PAY_3  \\\n",
      "16395  16396   320000.0    2          1         2   36      0      0      0   \n",
      "21448  21449   440000.0    2          1         2   30     -1     -1     -1   \n",
      "20034  20035   160000.0    2          3         1   44     -2     -2     -2   \n",
      "25755  25756   120000.0    2          2         1   30      0      0      0   \n",
      "1438    1439    50000.0    1          2         2   54      1      2      0   \n",
      "...      ...        ...  ...        ...       ...  ...    ...    ...    ...   \n",
      "28636  28637   380000.0    2          2         1   37      0      0      0   \n",
      "17730  17731   360000.0    2          1         1   54      1     -2     -2   \n",
      "28030  28031    50000.0    2          3         1   29      0      0      0   \n",
      "15725  15726    30000.0    2          2         2   21      0      0      0   \n",
      "19966  19967   370000.0    2          1         1   36     -2     -2     -2   \n",
      "\n",
      "       PAY_4  ...  BILL_AMT4  BILL_AMT5  BILL_AMT6  PAY_AMT1  PAY_AMT2  \\\n",
      "16395      0  ...    19370.0    10155.0     3788.0    5000.0    5018.0   \n",
      "21448      0  ...   171244.0   150897.0   117870.0     612.0   87426.0   \n",
      "20034     -2  ...      -18.0      -18.0      -18.0       0.0       0.0   \n",
      "25755      0  ...   103058.0    71095.0    47379.0    3706.0    5502.0   \n",
      "1438       0  ...    27585.0    27910.0    27380.0       0.0    1400.0   \n",
      "...      ...  ...        ...        ...        ...       ...       ...   \n",
      "28636      0  ...    14291.0    15949.0    15556.0    1204.0    1300.0   \n",
      "17730     -1  ...     2580.0     2580.0     6941.0       0.0       0.0   \n",
      "28030      0  ...    39420.0     8824.0     9009.0    2002.0    2000.0   \n",
      "15725      0  ...    30841.0    29434.0    16565.0    2000.0    2000.0   \n",
      "19966     -2  ...     4246.0     3737.0     2290.0   25794.0    3007.0   \n",
      "\n",
      "       PAY_AMT3  PAY_AMT4  PAY_AMT5  PAY_AMT6  default.payment.next.month  \n",
      "16395    1000.0    3000.0       0.0    7013.0                           0  \n",
      "21448  130007.0    3018.0   15000.0   51663.0                           0  \n",
      "20034       0.0       0.0       0.0       0.0                           0  \n",
      "25755    4204.0    3017.0    2005.0    1702.0                           0  \n",
      "1438     1200.0    1500.0    1000.0    1500.0                           0  \n",
      "...         ...       ...       ...       ...                         ...  \n",
      "28636    1242.0    1900.0       0.0    3000.0                           0  \n",
      "17730    2580.0       0.0    6941.0       0.0                           0  \n",
      "28030    1530.0    1000.0     327.0     329.0                           1  \n",
      "15725    2000.0    1765.0     331.0       0.0                           0  \n",
      "19966    4305.0    3737.0    2290.0   22259.0                           0  \n",
      "\n",
      "[21000 rows x 25 columns]\n"
     ]
    }
   ],
   "source": [
    "train_df, test_df = train_test_split(df, test_size=0.3, random_state=123)\n",
    "print(train_df)\n",
    "# print(test_df)"
   ]
  },
  {
   "cell_type": "markdown",
   "metadata": {},
   "source": [
    "<br><br>"
   ]
  },
  {
   "cell_type": "markdown",
   "metadata": {},
   "source": [
    "## 3. EDA <a name=\"3\"></a>\n",
    "<hr>\n",
    "rubric={points:10}\n",
    "\n",
    "**Your tasks:**\n",
    "\n",
    "1. Perform exploratory data analysis on the train set.\n",
    "2. Include at least two summary statistics and two visualizations that you find useful, and accompany each one with a sentence explaining it.\n",
    "3. Summarize your initial observations about the data. \n",
    "4. Pick appropriate metric/metrics for assessment. "
   ]
  },
  {
   "cell_type": "markdown",
   "metadata": {},
   "source": []
  },
  {
   "cell_type": "code",
   "execution_count": 4,
   "metadata": {},
   "outputs": [
    {
     "name": "stdout",
     "output_type": "stream",
     "text": [
      "<class 'pandas.core.frame.DataFrame'>\n",
      "Int64Index: 21000 entries, 16395 to 19966\n",
      "Data columns (total 25 columns):\n",
      " #   Column                      Non-Null Count  Dtype  \n",
      "---  ------                      --------------  -----  \n",
      " 0   ID                          21000 non-null  int64  \n",
      " 1   LIMIT_BAL                   21000 non-null  float64\n",
      " 2   SEX                         21000 non-null  int64  \n",
      " 3   EDUCATION                   21000 non-null  int64  \n",
      " 4   MARRIAGE                    21000 non-null  int64  \n",
      " 5   AGE                         21000 non-null  int64  \n",
      " 6   PAY_0                       21000 non-null  int64  \n",
      " 7   PAY_2                       21000 non-null  int64  \n",
      " 8   PAY_3                       21000 non-null  int64  \n",
      " 9   PAY_4                       21000 non-null  int64  \n",
      " 10  PAY_5                       21000 non-null  int64  \n",
      " 11  PAY_6                       21000 non-null  int64  \n",
      " 12  BILL_AMT1                   21000 non-null  float64\n",
      " 13  BILL_AMT2                   21000 non-null  float64\n",
      " 14  BILL_AMT3                   21000 non-null  float64\n",
      " 15  BILL_AMT4                   21000 non-null  float64\n",
      " 16  BILL_AMT5                   21000 non-null  float64\n",
      " 17  BILL_AMT6                   21000 non-null  float64\n",
      " 18  PAY_AMT1                    21000 non-null  float64\n",
      " 19  PAY_AMT2                    21000 non-null  float64\n",
      " 20  PAY_AMT3                    21000 non-null  float64\n",
      " 21  PAY_AMT4                    21000 non-null  float64\n",
      " 22  PAY_AMT5                    21000 non-null  float64\n",
      " 23  PAY_AMT6                    21000 non-null  float64\n",
      " 24  default.payment.next.month  21000 non-null  int64  \n",
      "dtypes: float64(13), int64(12)\n",
      "memory usage: 4.2 MB\n",
      "None\n"
     ]
    }
   ],
   "source": [
    "print(train_df.info())"
   ]
  },
  {
   "cell_type": "markdown",
   "metadata": {},
   "source": [
    "This summary clearly shows that no column in the training set requires imputation since there are 21000 non-null values for all columns. \n",
    "Also every column appears to be either int64 or float64 type (no object type)"
   ]
  },
  {
   "cell_type": "code",
   "execution_count": 5,
   "metadata": {},
   "outputs": [
    {
     "name": "stdout",
     "output_type": "stream",
     "text": [
      "                 ID       LIMIT_BAL           SEX     EDUCATION      MARRIAGE  \\\n",
      "count  21000.000000    21000.000000  21000.000000  21000.000000  21000.000000   \n",
      "mean   14962.348238   167880.651429      1.600762      1.852143      1.554000   \n",
      "std     8650.734050   130202.682167      0.489753      0.792961      0.521675   \n",
      "min        1.000000    10000.000000      1.000000      0.000000      0.000000   \n",
      "25%     7498.750000    50000.000000      1.000000      1.000000      1.000000   \n",
      "50%    14960.500000   140000.000000      2.000000      2.000000      2.000000   \n",
      "75%    22458.250000   240000.000000      2.000000      2.000000      2.000000   \n",
      "max    30000.000000  1000000.000000      2.000000      6.000000      3.000000   \n",
      "\n",
      "                AGE         PAY_0         PAY_2         PAY_3         PAY_4  \\\n",
      "count  21000.000000  21000.000000  21000.000000  21000.000000  21000.000000   \n",
      "mean      35.500810     -0.015429     -0.137095     -0.171619     -0.225238   \n",
      "std        9.212644      1.120465      1.194506      1.196123      1.168556   \n",
      "min       21.000000     -2.000000     -2.000000     -2.000000     -2.000000   \n",
      "25%       28.000000     -1.000000     -1.000000     -1.000000     -1.000000   \n",
      "50%       34.000000      0.000000      0.000000      0.000000      0.000000   \n",
      "75%       41.000000      0.000000      0.000000      0.000000      0.000000   \n",
      "max       79.000000      8.000000      8.000000      8.000000      8.000000   \n",
      "\n",
      "       ...      BILL_AMT4      BILL_AMT5      BILL_AMT6       PAY_AMT1  \\\n",
      "count  ...   21000.000000   21000.000000   21000.000000   21000.000000   \n",
      "mean   ...   43486.610905   40428.518333   38767.202667    5673.585143   \n",
      "std    ...   64843.303993   61187.200817   59587.689549   17033.241454   \n",
      "min    ...  -50616.000000  -61372.000000 -339603.000000       0.000000   \n",
      "25%    ...    2293.750000    1739.500000    1215.750000    1000.000000   \n",
      "50%    ...   19102.500000   18083.000000   16854.500000    2100.000000   \n",
      "75%    ...   54763.250000   50491.000000   49253.750000    5007.250000   \n",
      "max    ...  891586.000000  927171.000000  961664.000000  873552.000000   \n",
      "\n",
      "           PAY_AMT2       PAY_AMT3       PAY_AMT4       PAY_AMT5  \\\n",
      "count  2.100000e+04   21000.000000   21000.000000   21000.000000   \n",
      "mean   5.895027e+03    5311.432286    4774.021381    4751.850095   \n",
      "std    2.180143e+04   18377.997079   15434.136142   15228.193125   \n",
      "min    0.000000e+00       0.000000       0.000000       0.000000   \n",
      "25%    8.200000e+02     390.000000     266.000000     234.000000   \n",
      "50%    2.007000e+03    1809.500000    1500.000000    1500.000000   \n",
      "75%    5.000000e+03    4628.500000    4021.250000    4016.000000   \n",
      "max    1.227082e+06  896040.000000  621000.000000  426529.000000   \n",
      "\n",
      "            PAY_AMT6  default.payment.next.month  \n",
      "count   21000.000000                21000.000000  \n",
      "mean     5237.762190                    0.223238  \n",
      "std     18116.846563                    0.416427  \n",
      "min         0.000000                    0.000000  \n",
      "25%       110.750000                    0.000000  \n",
      "50%      1500.000000                    0.000000  \n",
      "75%      4000.000000                    0.000000  \n",
      "max    528666.000000                    1.000000  \n",
      "\n",
      "[8 rows x 25 columns]\n"
     ]
    }
   ],
   "source": [
    "# numeric features = limit_bal, age, bill_amt#, pay_amt#\n",
    "print(train_df.describe(include=\"all\"))"
   ]
  },
  {
   "cell_type": "markdown",
   "metadata": {},
   "source": [
    "This shows the wide range in values between numerical columns. For example, LIMIT_BAL has a max value of 1 million while age \n",
    "has a max of 79 and max of PAY_AMT5 is about half a million."
   ]
  },
  {
   "cell_type": "code",
   "execution_count": 6,
   "metadata": {},
   "outputs": [
    {
     "data": {
      "image/png": "[encoded data removed]",
      "text/plain": [
       "<Figure size 432x288 with 1 Axes>"
      ]
     },
     "metadata": {
      "needs_background": "light"
     },
     "output_type": "display_data"
    },
    {
     "data": {
      "image/png": "[encoded data removed]",
      "text/plain": [
       "<Figure size 432x288 with 1 Axes>"
      ]
     },
     "metadata": {
      "needs_background": "light"
     },
     "output_type": "display_data"
    },
    {
     "data": {
      "image/png": "[encoded data removed]",
      "text/plain": [
       "<Figure size 432x288 with 1 Axes>"
      ]
     },
     "metadata": {
      "needs_background": "light"
     },
     "output_type": "display_data"
    },
    {
     "data": {
      "image/png": "[encoded data removed]",
      "text/plain": [
       "<Figure size 432x288 with 1 Axes>"
      ]
     },
     "metadata": {
      "needs_background": "light"
     },
     "output_type": "display_data"
    },
    {
     "data": {
      "image/png": "[encoded data removed]",
      "text/plain": [
       "<Figure size 432x288 with 1 Axes>"
      ]
     },
     "metadata": {
      "needs_background": "light"
     },
     "output_type": "display_data"
    },
    {
     "data": {
      "image/png": "[encoded data removed]",
      "text/plain": [
       "<Figure size 432x288 with 1 Axes>"
      ]
     },
     "metadata": {
      "needs_background": "light"
     },
     "output_type": "display_data"
    },
    {
     "data": {
      "image/png": "[encoded data removed]",
      "text/plain": [
       "<Figure size 432x288 with 1 Axes>"
      ]
     },
     "metadata": {
      "needs_background": "light"
     },
     "output_type": "display_data"
    },
    {
     "data": {
      "image/png": "[encoded data removed]",
      "text/plain": [
       "<Figure size 432x288 with 1 Axes>"
      ]
     },
     "metadata": {
      "needs_background": "light"
     },
     "output_type": "display_data"
    },
    {
     "data": {
      "image/png": "[encoded data removed]",
      "text/plain": [
       "<Figure size 432x288 with 1 Axes>"
      ]
     },
     "metadata": {
      "needs_background": "light"
     },
     "output_type": "display_data"
    },
    {
     "data": {
      "image/png": "[encoded data removed]",
      "text/plain": [
       "<Figure size 432x288 with 1 Axes>"
      ]
     },
     "metadata": {
      "needs_background": "light"
     },
     "output_type": "display_data"
    },
    {
     "data": {
      "image/png": "[encoded data removed]",
      "text/plain": [
       "<Figure size 432x288 with 1 Axes>"
      ]
     },
     "metadata": {
      "needs_background": "light"
     },
     "output_type": "display_data"
    },
    {
     "data": {
      "image/png": "[encoded data removed]",
      "text/plain": [
       "<Figure size 432x288 with 1 Axes>"
      ]
     },
     "metadata": {
      "needs_background": "light"
     },
     "output_type": "display_data"
    },
    {
     "data": {
      "image/png": "[encoded data removed]",
      "text/plain": [
       "<Figure size 432x288 with 1 Axes>"
      ]
     },
     "metadata": {
      "needs_background": "light"
     },
     "output_type": "display_data"
    },
    {
     "data": {
      "image/png": "[encoded data removed]",
      "text/plain": [
       "<Figure size 432x288 with 1 Axes>"
      ]
     },
     "metadata": {
      "needs_background": "light"
     },
     "output_type": "display_data"
    }
   ],
   "source": [
    "negative_examples = train_df.query('`default.payment.next.month` == 0')\n",
    "positive_examples = train_df.query('`default.payment.next.month` == 1')\n",
    "\n",
    "# print(positive_examples)\n",
    "\n",
    "numeric_features = [\n",
    "    \"LIMIT_BAL\",\n",
    "    \"AGE\",\n",
    "    \"BILL_AMT1\",\n",
    "    \"BILL_AMT2\",\n",
    "    \"BILL_AMT3\",\n",
    "    \"BILL_AMT4\",\n",
    "    \"BILL_AMT5\",\n",
    "    \"BILL_AMT6\",\n",
    "    \"PAY_AMT1\",\n",
    "    \"PAY_AMT2\",\n",
    "    \"PAY_AMT3\",\n",
    "    \"PAY_AMT4\",\n",
    "    \"PAY_AMT5\",\n",
    "    \"PAY_AMT6\",\n",
    "]\n",
    "\n",
    "for col in numeric_features:\n",
    "    negative_col = negative_examples.loc[:, col]\n",
    "    positive_col = positive_examples.loc[:, col]\n",
    "    \n",
    "    plt.xlabel(col)\n",
    "    plt.ylabel(\"Count\")\n",
    "    plt.title(\"Histogram of \" + col + \" by target class\")\n",
    "    \n",
    "    # added opacity to make graph look similar to the example histogram given above\n",
    "    plt.hist(negative_col, label='NO DEFAULT', alpha=0.3, bins=50)\n",
    "    plt.hist(positive_col, label='DEFAULTED', alpha=0.7, bins=50)\n",
    "    \n",
    "    plt.legend();\n",
    "    plt.show()\n"
   ]
  },
  {
   "cell_type": "markdown",
   "metadata": {},
   "source": [
    "The histograms above show no clear separation and relevance for the target (default vs no default). The shape of the distribution for both no default/default appear to be similar for all histograms. The counts themselves likely differ due to class imbalance.\n",
    "NOTE: age seems to have a significant peak at age 31 for no default where as default has no such peaks, so that might be a useful distinguishing separator."
   ]
  },
  {
   "cell_type": "code",
   "execution_count": 7,
   "metadata": {},
   "outputs": [
    {
     "data": {
      "text/plain": [
       "Text(0, 0.5, 'Number of People')"
      ]
     },
     "execution_count": 7,
     "metadata": {},
     "output_type": "execute_result"
    },
    {
     "data": {
      "image/png": "[encoded data removed]",
      "text/plain": [
       "<Figure size 432x288 with 1 Axes>"
      ]
     },
     "metadata": {
      "needs_background": "light"
     },
     "output_type": "display_data"
    }
   ],
   "source": [
    "x = train_df[\"default.payment.next.month\"].value_counts()\n",
    "categories = list(x.keys())\n",
    "count = list(x.values)\n",
    "\n",
    "plt.bar(categories, count, tick_label=categories)\n",
    "\n",
    "plt.title(\"Number of People Vs Defaulted/No Default\")\n",
    "plt.xlabel('Defaulted/No Default  (0 = No Default, 1 = Defaulted)')\n",
    "plt.ylabel('Number of People')"
   ]
  },
  {
   "cell_type": "markdown",
   "metadata": {},
   "source": [
    "This bar graph clearly shows class imbalance as there are roughly 16 000 no default samples where as there are about 4000 defaulted samples in training dataset. Thus, \"Defaulted\" samples only account for about 20% of the training dataset. "
   ]
  },
  {
   "cell_type": "markdown",
   "metadata": {},
   "source": [
    "The histograms show us that no none of the numeric features by themselves are relevant in determining the target of default or not default since the shape of both classes are very similar in all the numeric histograms above. However, this does not mean that any of these feature are useless, the features might be useful in conjunction with another feature for predicting the target. (just not by themselves).\n",
    "\n",
    "The bar graph shows a problem of class imbalance as 20% of the samples are defaulted while 80% are not defaulted. Our machine learning model will become good at classifying examples as Not Defaulted and will not be good at classifying Defaulted samples since it learns from a disproportionate training set where it can achieve 80% accuracy by just predicting the majority value."
   ]
  },
  {
   "cell_type": "markdown",
   "metadata": {},
   "source": [
    "4) Since there is significant class imbalance, in order to use accuracy metric reliable, we will need to change the training procedure through class_weight=\"balanced\". Otherwise, it is not good metric to choose right now since a dummy classifier can achieve a training score of about 80% by picking majority value.\n",
    "\n",
    "I believe recall and precision are equally important, and therefore would also look at the F-1 metric. The recall score is important since we want to minimize False Negatives, as false negatives means we incorrectly predict people to not default, when in reality they will default. This is damaging to credit card companies since they will lose money. Precision is also important for minimizing false positives (where we incorrectly predict someone will default when they wont), as this means credit card companies would wrongfully not accept the business of such customers, thereby also losing money of potential customers who would pay their bills. In both cases, the credit card company is losing money."
   ]
  },
  {
   "cell_type": "markdown",
   "metadata": {},
   "source": [
    "<br><br>"
   ]
  },
  {
   "cell_type": "markdown",
   "metadata": {},
   "source": [
    "## (Optional) 4. Feature engineering <a name=\"4\"></a>\n",
    "<hr>\n",
    "rubric={points:1}\n",
    "\n",
    "**Your tasks:**\n",
    "\n",
    "1. Carry out feature engineering. In other words, extract new features relevant for the problem and work with your new feature set in the following exercises. You may have to go back and forth between feature engineering and preprocessing. "
   ]
  },
  {
   "cell_type": "markdown",
   "metadata": {},
   "source": []
  },
  {
   "cell_type": "code",
   "execution_count": null,
   "metadata": {},
   "outputs": [],
   "source": []
  },
  {
   "cell_type": "markdown",
   "metadata": {},
   "source": [
    "<br><br>"
   ]
  },
  {
   "cell_type": "markdown",
   "metadata": {},
   "source": [
    "## 5. Preprocessing and transformations <a name=\"5\"></a>\n",
    "<hr>\n",
    "rubric={points:10}\n",
    "\n",
    "**Your tasks:**\n",
    "\n",
    "1. Identify different feature types and the transformations you would apply on each feature type. \n",
    "2. Define a column transformer, if necessary. "
   ]
  },
  {
   "cell_type": "markdown",
   "metadata": {},
   "source": []
  },
  {
   "cell_type": "code",
   "execution_count": 8,
   "metadata": {},
   "outputs": [],
   "source": [
    "set_config(display=\"diagram\")\n",
    "\n",
    "# no imputation necessary\n",
    "# scaling is necessary for numeric features\n",
    "# one-hot encoding for MARRIAGE, PAY_0,2,3,4,5,6 (REPLACE number with categorical value also)\n",
    "# ordinal encoding for EDUCATION and PAY?\n",
    "\n",
    "# https://www.kaggle.com/uciml/default-of-credit-card-clients-dataset/discussion/34608\n",
    "train_df_mod = train_df.copy()\n",
    "train_df_mod[\"MARRIAGE\"].replace({0:\"Others\", 1:\"Married\", 2:\"Single\", 3:\"Divorce\"}, inplace=True)\n",
    "# print(train_df_mod[\"MARRIAGE\"])\n",
    "\n",
    "\n",
    "test_df_mod = test_df.copy()\n",
    "test_df_mod[\"MARRIAGE\"].replace({0:\"Others\", 1:\"Married\", 2:\"Single\", 3:\"Divorce\"}, inplace=True)\n",
    "# print(test_df_mod[\"MARRIAGE\"])\n",
    "\n",
    "\n",
    "\n",
    "numeric_features = [\n",
    "    \"LIMIT_BAL\",\n",
    "    \"AGE\",\n",
    "    \"BILL_AMT1\",\n",
    "    \"BILL_AMT2\",\n",
    "    \"BILL_AMT3\",\n",
    "    \"BILL_AMT4\",\n",
    "    \"BILL_AMT5\",\n",
    "    \"BILL_AMT6\",\n",
    "    \"PAY_AMT1\",\n",
    "    \"PAY_AMT2\",\n",
    "    \"PAY_AMT3\",\n",
    "    \"PAY_AMT4\",\n",
    "    \"PAY_AMT5\",\n",
    "    \"PAY_AMT6\",\n",
    "]\n",
    "\n",
    "\n",
    "ohe_categ_cols = [\"MARRIAGE\"]\n",
    "\n",
    "drop_cols = []\n",
    "\n",
    "preprocessor = make_column_transformer(\n",
    "    (StandardScaler(), numeric_features),\n",
    "    (OneHotEncoder(sparse=False, handle_unknown=\"ignore\"), ohe_categ_cols),\n",
    "    (\"drop\", drop_cols),\n",
    ")"
   ]
  },
  {
   "cell_type": "markdown",
   "metadata": {},
   "source": [
    "<br><br>"
   ]
  },
  {
   "cell_type": "markdown",
   "metadata": {},
   "source": [
    "## 6. Baseline model <a name=\"6\"></a>\n",
    "<hr>\n",
    "\n",
    "rubric={points:2}\n",
    "\n",
    "**Your tasks:**\n",
    "1. Try `scikit-learn`'s baseline model and report results."
   ]
  },
  {
   "cell_type": "markdown",
   "metadata": {},
   "source": []
  },
  {
   "cell_type": "code",
   "execution_count": 9,
   "metadata": {},
   "outputs": [],
   "source": [
    "# Taken from HW3\n",
    "def mean_std_cross_val_scores(model, X_train, y_train, **kwargs):\n",
    "    \"\"\"\n",
    "    Returns mean and std of cross validation\n",
    "\n",
    "    Parameters\n",
    "    ----------\n",
    "    model :\n",
    "        scikit-learn model\n",
    "    X_train : numpy array or pandas DataFrame\n",
    "        X in the training data\n",
    "    y_train :\n",
    "        y in the training data\n",
    "\n",
    "    Returns\n",
    "    ----------\n",
    "        pandas Series with mean scores from cross_validation\n",
    "    \"\"\"\n",
    "\n",
    "    scores = cross_validate(model, X_train, y_train, **kwargs)\n",
    "\n",
    "    mean_scores = pd.DataFrame(scores).mean()\n",
    "    std_scores = pd.DataFrame(scores).std()\n",
    "    out_col = []\n",
    "\n",
    "    for i in range(len(mean_scores)):\n",
    "        out_col.append((f\"%0.3f (+/- %0.3f)\" % (mean_scores[i], std_scores[i])))\n",
    "\n",
    "    return pd.Series(data=out_col, index=mean_scores.index)"
   ]
  },
  {
   "cell_type": "code",
   "execution_count": 10,
   "metadata": {},
   "outputs": [
    {
     "name": "stderr",
     "output_type": "stream",
     "text": [
      "/opt/miniconda3/envs/cpsc330/lib/python3.9/site-packages/sklearn/metrics/_classification.py:1318: UndefinedMetricWarning: Precision is ill-defined and being set to 0.0 due to no predicted samples. Use `zero_division` parameter to control this behavior.\n",
      "  _warn_prf(average, modifier, msg_start, len(result))\n",
      "/opt/miniconda3/envs/cpsc330/lib/python3.9/site-packages/sklearn/metrics/_classification.py:1318: UndefinedMetricWarning: Precision is ill-defined and being set to 0.0 due to no predicted samples. Use `zero_division` parameter to control this behavior.\n",
      "  _warn_prf(average, modifier, msg_start, len(result))\n",
      "/opt/miniconda3/envs/cpsc330/lib/python3.9/site-packages/sklearn/metrics/_classification.py:1318: UndefinedMetricWarning: Precision is ill-defined and being set to 0.0 due to no predicted samples. Use `zero_division` parameter to control this behavior.\n",
      "  _warn_prf(average, modifier, msg_start, len(result))\n",
      "/opt/miniconda3/envs/cpsc330/lib/python3.9/site-packages/sklearn/metrics/_classification.py:1318: UndefinedMetricWarning: Precision is ill-defined and being set to 0.0 due to no predicted samples. Use `zero_division` parameter to control this behavior.\n",
      "  _warn_prf(average, modifier, msg_start, len(result))\n",
      "/opt/miniconda3/envs/cpsc330/lib/python3.9/site-packages/sklearn/metrics/_classification.py:1318: UndefinedMetricWarning: Precision is ill-defined and being set to 0.0 due to no predicted samples. Use `zero_division` parameter to control this behavior.\n",
      "  _warn_prf(average, modifier, msg_start, len(result))\n",
      "/opt/miniconda3/envs/cpsc330/lib/python3.9/site-packages/sklearn/metrics/_classification.py:1318: UndefinedMetricWarning: Precision is ill-defined and being set to 0.0 due to no predicted samples. Use `zero_division` parameter to control this behavior.\n",
      "  _warn_prf(average, modifier, msg_start, len(result))\n",
      "/opt/miniconda3/envs/cpsc330/lib/python3.9/site-packages/sklearn/metrics/_classification.py:1318: UndefinedMetricWarning: Precision is ill-defined and being set to 0.0 due to no predicted samples. Use `zero_division` parameter to control this behavior.\n",
      "  _warn_prf(average, modifier, msg_start, len(result))\n",
      "/opt/miniconda3/envs/cpsc330/lib/python3.9/site-packages/sklearn/metrics/_classification.py:1318: UndefinedMetricWarning: Precision is ill-defined and being set to 0.0 due to no predicted samples. Use `zero_division` parameter to control this behavior.\n",
      "  _warn_prf(average, modifier, msg_start, len(result))\n",
      "/opt/miniconda3/envs/cpsc330/lib/python3.9/site-packages/sklearn/metrics/_classification.py:1318: UndefinedMetricWarning: Precision is ill-defined and being set to 0.0 due to no predicted samples. Use `zero_division` parameter to control this behavior.\n",
      "  _warn_prf(average, modifier, msg_start, len(result))\n",
      "/opt/miniconda3/envs/cpsc330/lib/python3.9/site-packages/sklearn/metrics/_classification.py:1318: UndefinedMetricWarning: Precision is ill-defined and being set to 0.0 due to no predicted samples. Use `zero_division` parameter to control this behavior.\n",
      "  _warn_prf(average, modifier, msg_start, len(result))\n"
     ]
    },
    {
     "data": {
      "text/html": [
       "<div>\n",
       "<style scoped>\n",
       "    .dataframe tbody tr th:only-of-type {\n",
       "        vertical-align: middle;\n",
       "    }\n",
       "\n",
       "    .dataframe tbody tr th {\n",
       "        vertical-align: top;\n",
       "    }\n",
       "\n",
       "    .dataframe thead th {\n",
       "        text-align: right;\n",
       "    }\n",
       "</style>\n",
       "<table border=\"1\" class=\"dataframe\">\n",
       "  <thead>\n",
       "    <tr style=\"text-align: right;\">\n",
       "      <th></th>\n",
       "      <th>fit_time</th>\n",
       "      <th>score_time</th>\n",
       "      <th>test_accuracy</th>\n",
       "      <th>train_accuracy</th>\n",
       "      <th>test_f1</th>\n",
       "      <th>train_f1</th>\n",
       "      <th>test_recall</th>\n",
       "      <th>train_recall</th>\n",
       "      <th>test_precision</th>\n",
       "      <th>train_precision</th>\n",
       "    </tr>\n",
       "  </thead>\n",
       "  <tbody>\n",
       "    <tr>\n",
       "      <th>Dummy</th>\n",
       "      <td>0.018 (+/- 0.020)</td>\n",
       "      <td>0.006 (+/- 0.001)</td>\n",
       "      <td>0.777 (+/- 0.000)</td>\n",
       "      <td>0.777 (+/- 0.000)</td>\n",
       "      <td>0.000 (+/- 0.000)</td>\n",
       "      <td>0.000 (+/- 0.000)</td>\n",
       "      <td>0.000 (+/- 0.000)</td>\n",
       "      <td>0.000 (+/- 0.000)</td>\n",
       "      <td>0.000 (+/- 0.000)</td>\n",
       "      <td>0.000 (+/- 0.000)</td>\n",
       "    </tr>\n",
       "  </tbody>\n",
       "</table>\n",
       "</div>"
      ],
      "text/plain": [
       "                fit_time         score_time      test_accuracy  \\\n",
       "Dummy  0.018 (+/- 0.020)  0.006 (+/- 0.001)  0.777 (+/- 0.000)   \n",
       "\n",
       "          train_accuracy            test_f1           train_f1  \\\n",
       "Dummy  0.777 (+/- 0.000)  0.000 (+/- 0.000)  0.000 (+/- 0.000)   \n",
       "\n",
       "             test_recall       train_recall     test_precision  \\\n",
       "Dummy  0.000 (+/- 0.000)  0.000 (+/- 0.000)  0.000 (+/- 0.000)   \n",
       "\n",
       "         train_precision  \n",
       "Dummy  0.000 (+/- 0.000)  "
      ]
     },
     "execution_count": 10,
     "metadata": {},
     "output_type": "execute_result"
    }
   ],
   "source": [
    "X_train = train_df_mod.drop(columns=[\"default.payment.next.month\"])\n",
    "X_test = test_df_mod.drop(columns=[\"default.payment.next.month\"])\n",
    "\n",
    "y_train = train_df_mod[\"default.payment.next.month\"]\n",
    "y_test = test_df_mod[\"default.payment.next.month\"]\n",
    "\n",
    "scoring = [\n",
    "    \"accuracy\",\n",
    "    \"f1\",\n",
    "    \"recall\",\n",
    "    \"precision\",\n",
    "]\n",
    "\n",
    "results = {}\n",
    "dummy = DummyClassifier(strategy=\"most_frequent\", random_state=123)\n",
    "pipe_dummy = make_pipeline(preprocessor, dummy)\n",
    "results[\"Dummy\"] = mean_std_cross_val_scores(\n",
    "    pipe_dummy, X_train, y_train, return_train_score=True, scoring=scoring\n",
    ")\n",
    "\n",
    "pd.DataFrame(results).T"
   ]
  },
  {
   "cell_type": "code",
   "execution_count": 11,
   "metadata": {},
   "outputs": [
    {
     "data": {
      "text/html": [
       "<div>\n",
       "<style scoped>\n",
       "    .dataframe tbody tr th:only-of-type {\n",
       "        vertical-align: middle;\n",
       "    }\n",
       "\n",
       "    .dataframe tbody tr th {\n",
       "        vertical-align: top;\n",
       "    }\n",
       "\n",
       "    .dataframe thead th {\n",
       "        text-align: right;\n",
       "    }\n",
       "</style>\n",
       "<table border=\"1\" class=\"dataframe\">\n",
       "  <thead>\n",
       "    <tr style=\"text-align: right;\">\n",
       "      <th></th>\n",
       "      <th>fit_time</th>\n",
       "      <th>score_time</th>\n",
       "      <th>test_accuracy</th>\n",
       "      <th>train_accuracy</th>\n",
       "      <th>test_f1</th>\n",
       "      <th>train_f1</th>\n",
       "      <th>test_recall</th>\n",
       "      <th>train_recall</th>\n",
       "      <th>test_precision</th>\n",
       "      <th>train_precision</th>\n",
       "    </tr>\n",
       "  </thead>\n",
       "  <tbody>\n",
       "    <tr>\n",
       "      <th>Dummy</th>\n",
       "      <td>0.018 (+/- 0.020)</td>\n",
       "      <td>0.006 (+/- 0.001)</td>\n",
       "      <td>0.777 (+/- 0.000)</td>\n",
       "      <td>0.777 (+/- 0.000)</td>\n",
       "      <td>0.000 (+/- 0.000)</td>\n",
       "      <td>0.000 (+/- 0.000)</td>\n",
       "      <td>0.000 (+/- 0.000)</td>\n",
       "      <td>0.000 (+/- 0.000)</td>\n",
       "      <td>0.000 (+/- 0.000)</td>\n",
       "      <td>0.000 (+/- 0.000)</td>\n",
       "    </tr>\n",
       "    <tr>\n",
       "      <th>LogisticRegression with C value: 0.01</th>\n",
       "      <td>0.040 (+/- 0.004)</td>\n",
       "      <td>0.007 (+/- 0.001)</td>\n",
       "      <td>0.543 (+/- 0.003)</td>\n",
       "      <td>0.544 (+/- 0.002)</td>\n",
       "      <td>0.414 (+/- 0.007)</td>\n",
       "      <td>0.416 (+/- 0.001)</td>\n",
       "      <td>0.724 (+/- 0.016)</td>\n",
       "      <td>0.727 (+/- 0.003)</td>\n",
       "      <td>0.290 (+/- 0.004)</td>\n",
       "      <td>0.291 (+/- 0.001)</td>\n",
       "    </tr>\n",
       "    <tr>\n",
       "      <th>LogisticRegression with C value: 0.03162277660168379</th>\n",
       "      <td>0.052 (+/- 0.003)</td>\n",
       "      <td>0.006 (+/- 0.000)</td>\n",
       "      <td>0.544 (+/- 0.003)</td>\n",
       "      <td>0.544 (+/- 0.002)</td>\n",
       "      <td>0.416 (+/- 0.007)</td>\n",
       "      <td>0.415 (+/- 0.002)</td>\n",
       "      <td>0.727 (+/- 0.016)</td>\n",
       "      <td>0.726 (+/- 0.003)</td>\n",
       "      <td>0.291 (+/- 0.004)</td>\n",
       "      <td>0.291 (+/- 0.001)</td>\n",
       "    </tr>\n",
       "    <tr>\n",
       "      <th>LogisticRegression with C value: 0.1</th>\n",
       "      <td>0.063 (+/- 0.006)</td>\n",
       "      <td>0.006 (+/- 0.001)</td>\n",
       "      <td>0.545 (+/- 0.003)</td>\n",
       "      <td>0.544 (+/- 0.002)</td>\n",
       "      <td>0.416 (+/- 0.007)</td>\n",
       "      <td>0.415 (+/- 0.002)</td>\n",
       "      <td>0.728 (+/- 0.017)</td>\n",
       "      <td>0.726 (+/- 0.004)</td>\n",
       "      <td>0.292 (+/- 0.004)</td>\n",
       "      <td>0.291 (+/- 0.002)</td>\n",
       "    </tr>\n",
       "    <tr>\n",
       "      <th>LogisticRegression with C value: 0.31622776601683794</th>\n",
       "      <td>0.075 (+/- 0.005)</td>\n",
       "      <td>0.006 (+/- 0.001)</td>\n",
       "      <td>0.544 (+/- 0.003)</td>\n",
       "      <td>0.544 (+/- 0.002)</td>\n",
       "      <td>0.416 (+/- 0.007)</td>\n",
       "      <td>0.416 (+/- 0.002)</td>\n",
       "      <td>0.727 (+/- 0.017)</td>\n",
       "      <td>0.726 (+/- 0.004)</td>\n",
       "      <td>0.291 (+/- 0.004)</td>\n",
       "      <td>0.291 (+/- 0.002)</td>\n",
       "    </tr>\n",
       "    <tr>\n",
       "      <th>LogisticRegression with C value: 1.0</th>\n",
       "      <td>0.062 (+/- 0.008)</td>\n",
       "      <td>0.006 (+/- 0.000)</td>\n",
       "      <td>0.544 (+/- 0.003)</td>\n",
       "      <td>0.544 (+/- 0.002)</td>\n",
       "      <td>0.416 (+/- 0.007)</td>\n",
       "      <td>0.416 (+/- 0.002)</td>\n",
       "      <td>0.727 (+/- 0.017)</td>\n",
       "      <td>0.726 (+/- 0.004)</td>\n",
       "      <td>0.291 (+/- 0.004)</td>\n",
       "      <td>0.291 (+/- 0.002)</td>\n",
       "    </tr>\n",
       "    <tr>\n",
       "      <th>LogisticRegression with C value: 3.1622776601683795</th>\n",
       "      <td>0.055 (+/- 0.004)</td>\n",
       "      <td>0.006 (+/- 0.000)</td>\n",
       "      <td>0.544 (+/- 0.003)</td>\n",
       "      <td>0.544 (+/- 0.002)</td>\n",
       "      <td>0.416 (+/- 0.007)</td>\n",
       "      <td>0.416 (+/- 0.002)</td>\n",
       "      <td>0.727 (+/- 0.017)</td>\n",
       "      <td>0.726 (+/- 0.004)</td>\n",
       "      <td>0.291 (+/- 0.004)</td>\n",
       "      <td>0.291 (+/- 0.001)</td>\n",
       "    </tr>\n",
       "    <tr>\n",
       "      <th>LogisticRegression with C value: 10.0</th>\n",
       "      <td>0.058 (+/- 0.005)</td>\n",
       "      <td>0.007 (+/- 0.001)</td>\n",
       "      <td>0.544 (+/- 0.003)</td>\n",
       "      <td>0.544 (+/- 0.002)</td>\n",
       "      <td>0.415 (+/- 0.007)</td>\n",
       "      <td>0.416 (+/- 0.002)</td>\n",
       "      <td>0.726 (+/- 0.018)</td>\n",
       "      <td>0.726 (+/- 0.004)</td>\n",
       "      <td>0.291 (+/- 0.004)</td>\n",
       "      <td>0.291 (+/- 0.002)</td>\n",
       "    </tr>\n",
       "    <tr>\n",
       "      <th>LogisticRegression with C value: 31.622776601683793</th>\n",
       "      <td>0.053 (+/- 0.003)</td>\n",
       "      <td>0.006 (+/- 0.000)</td>\n",
       "      <td>0.544 (+/- 0.004)</td>\n",
       "      <td>0.544 (+/- 0.002)</td>\n",
       "      <td>0.416 (+/- 0.007)</td>\n",
       "      <td>0.416 (+/- 0.002)</td>\n",
       "      <td>0.726 (+/- 0.018)</td>\n",
       "      <td>0.726 (+/- 0.004)</td>\n",
       "      <td>0.291 (+/- 0.004)</td>\n",
       "      <td>0.291 (+/- 0.002)</td>\n",
       "    </tr>\n",
       "  </tbody>\n",
       "</table>\n",
       "</div>"
      ],
      "text/plain": [
       "                                                             fit_time  \\\n",
       "Dummy                                               0.018 (+/- 0.020)   \n",
       "LogisticRegression with C value: 0.01               0.040 (+/- 0.004)   \n",
       "LogisticRegression with C value: 0.031622776601...  0.052 (+/- 0.003)   \n",
       "LogisticRegression with C value: 0.1                0.063 (+/- 0.006)   \n",
       "LogisticRegression with C value: 0.316227766016...  0.075 (+/- 0.005)   \n",
       "LogisticRegression with C value: 1.0                0.062 (+/- 0.008)   \n",
       "LogisticRegression with C value: 3.162277660168...  0.055 (+/- 0.004)   \n",
       "LogisticRegression with C value: 10.0               0.058 (+/- 0.005)   \n",
       "LogisticRegression with C value: 31.62277660168...  0.053 (+/- 0.003)   \n",
       "\n",
       "                                                           score_time  \\\n",
       "Dummy                                               0.006 (+/- 0.001)   \n",
       "LogisticRegression with C value: 0.01               0.007 (+/- 0.001)   \n",
       "LogisticRegression with C value: 0.031622776601...  0.006 (+/- 0.000)   \n",
       "LogisticRegression with C value: 0.1                0.006 (+/- 0.001)   \n",
       "LogisticRegression with C value: 0.316227766016...  0.006 (+/- 0.001)   \n",
       "LogisticRegression with C value: 1.0                0.006 (+/- 0.000)   \n",
       "LogisticRegression with C value: 3.162277660168...  0.006 (+/- 0.000)   \n",
       "LogisticRegression with C value: 10.0               0.007 (+/- 0.001)   \n",
       "LogisticRegression with C value: 31.62277660168...  0.006 (+/- 0.000)   \n",
       "\n",
       "                                                        test_accuracy  \\\n",
       "Dummy                                               0.777 (+/- 0.000)   \n",
       "LogisticRegression with C value: 0.01               0.543 (+/- 0.003)   \n",
       "LogisticRegression with C value: 0.031622776601...  0.544 (+/- 0.003)   \n",
       "LogisticRegression with C value: 0.1                0.545 (+/- 0.003)   \n",
       "LogisticRegression with C value: 0.316227766016...  0.544 (+/- 0.003)   \n",
       "LogisticRegression with C value: 1.0                0.544 (+/- 0.003)   \n",
       "LogisticRegression with C value: 3.162277660168...  0.544 (+/- 0.003)   \n",
       "LogisticRegression with C value: 10.0               0.544 (+/- 0.003)   \n",
       "LogisticRegression with C value: 31.62277660168...  0.544 (+/- 0.004)   \n",
       "\n",
       "                                                       train_accuracy  \\\n",
       "Dummy                                               0.777 (+/- 0.000)   \n",
       "LogisticRegression with C value: 0.01               0.544 (+/- 0.002)   \n",
       "LogisticRegression with C value: 0.031622776601...  0.544 (+/- 0.002)   \n",
       "LogisticRegression with C value: 0.1                0.544 (+/- 0.002)   \n",
       "LogisticRegression with C value: 0.316227766016...  0.544 (+/- 0.002)   \n",
       "LogisticRegression with C value: 1.0                0.544 (+/- 0.002)   \n",
       "LogisticRegression with C value: 3.162277660168...  0.544 (+/- 0.002)   \n",
       "LogisticRegression with C value: 10.0               0.544 (+/- 0.002)   \n",
       "LogisticRegression with C value: 31.62277660168...  0.544 (+/- 0.002)   \n",
       "\n",
       "                                                              test_f1  \\\n",
       "Dummy                                               0.000 (+/- 0.000)   \n",
       "LogisticRegression with C value: 0.01               0.414 (+/- 0.007)   \n",
       "LogisticRegression with C value: 0.031622776601...  0.416 (+/- 0.007)   \n",
       "LogisticRegression with C value: 0.1                0.416 (+/- 0.007)   \n",
       "LogisticRegression with C value: 0.316227766016...  0.416 (+/- 0.007)   \n",
       "LogisticRegression with C value: 1.0                0.416 (+/- 0.007)   \n",
       "LogisticRegression with C value: 3.162277660168...  0.416 (+/- 0.007)   \n",
       "LogisticRegression with C value: 10.0               0.415 (+/- 0.007)   \n",
       "LogisticRegression with C value: 31.62277660168...  0.416 (+/- 0.007)   \n",
       "\n",
       "                                                             train_f1  \\\n",
       "Dummy                                               0.000 (+/- 0.000)   \n",
       "LogisticRegression with C value: 0.01               0.416 (+/- 0.001)   \n",
       "LogisticRegression with C value: 0.031622776601...  0.415 (+/- 0.002)   \n",
       "LogisticRegression with C value: 0.1                0.415 (+/- 0.002)   \n",
       "LogisticRegression with C value: 0.316227766016...  0.416 (+/- 0.002)   \n",
       "LogisticRegression with C value: 1.0                0.416 (+/- 0.002)   \n",
       "LogisticRegression with C value: 3.162277660168...  0.416 (+/- 0.002)   \n",
       "LogisticRegression with C value: 10.0               0.416 (+/- 0.002)   \n",
       "LogisticRegression with C value: 31.62277660168...  0.416 (+/- 0.002)   \n",
       "\n",
       "                                                          test_recall  \\\n",
       "Dummy                                               0.000 (+/- 0.000)   \n",
       "LogisticRegression with C value: 0.01               0.724 (+/- 0.016)   \n",
       "LogisticRegression with C value: 0.031622776601...  0.727 (+/- 0.016)   \n",
       "LogisticRegression with C value: 0.1                0.728 (+/- 0.017)   \n",
       "LogisticRegression with C value: 0.316227766016...  0.727 (+/- 0.017)   \n",
       "LogisticRegression with C value: 1.0                0.727 (+/- 0.017)   \n",
       "LogisticRegression with C value: 3.162277660168...  0.727 (+/- 0.017)   \n",
       "LogisticRegression with C value: 10.0               0.726 (+/- 0.018)   \n",
       "LogisticRegression with C value: 31.62277660168...  0.726 (+/- 0.018)   \n",
       "\n",
       "                                                         train_recall  \\\n",
       "Dummy                                               0.000 (+/- 0.000)   \n",
       "LogisticRegression with C value: 0.01               0.727 (+/- 0.003)   \n",
       "LogisticRegression with C value: 0.031622776601...  0.726 (+/- 0.003)   \n",
       "LogisticRegression with C value: 0.1                0.726 (+/- 0.004)   \n",
       "LogisticRegression with C value: 0.316227766016...  0.726 (+/- 0.004)   \n",
       "LogisticRegression with C value: 1.0                0.726 (+/- 0.004)   \n",
       "LogisticRegression with C value: 3.162277660168...  0.726 (+/- 0.004)   \n",
       "LogisticRegression with C value: 10.0               0.726 (+/- 0.004)   \n",
       "LogisticRegression with C value: 31.62277660168...  0.726 (+/- 0.004)   \n",
       "\n",
       "                                                       test_precision  \\\n",
       "Dummy                                               0.000 (+/- 0.000)   \n",
       "LogisticRegression with C value: 0.01               0.290 (+/- 0.004)   \n",
       "LogisticRegression with C value: 0.031622776601...  0.291 (+/- 0.004)   \n",
       "LogisticRegression with C value: 0.1                0.292 (+/- 0.004)   \n",
       "LogisticRegression with C value: 0.316227766016...  0.291 (+/- 0.004)   \n",
       "LogisticRegression with C value: 1.0                0.291 (+/- 0.004)   \n",
       "LogisticRegression with C value: 3.162277660168...  0.291 (+/- 0.004)   \n",
       "LogisticRegression with C value: 10.0               0.291 (+/- 0.004)   \n",
       "LogisticRegression with C value: 31.62277660168...  0.291 (+/- 0.004)   \n",
       "\n",
       "                                                      train_precision  \n",
       "Dummy                                               0.000 (+/- 0.000)  \n",
       "LogisticRegression with C value: 0.01               0.291 (+/- 0.001)  \n",
       "LogisticRegression with C value: 0.031622776601...  0.291 (+/- 0.001)  \n",
       "LogisticRegression with C value: 0.1                0.291 (+/- 0.002)  \n",
       "LogisticRegression with C value: 0.316227766016...  0.291 (+/- 0.002)  \n",
       "LogisticRegression with C value: 1.0                0.291 (+/- 0.002)  \n",
       "LogisticRegression with C value: 3.162277660168...  0.291 (+/- 0.001)  \n",
       "LogisticRegression with C value: 10.0               0.291 (+/- 0.002)  \n",
       "LogisticRegression with C value: 31.62277660168...  0.291 (+/- 0.002)  "
      ]
     },
     "execution_count": 11,
     "metadata": {},
     "output_type": "execute_result"
    }
   ],
   "source": [
    "C_vals = 10.0 ** np.arange(-2, 2, 0.5)\n",
    "\n",
    "\n",
    "for C_val in C_vals:\n",
    "    pipe_lr = make_pipeline(preprocessor, LogisticRegression(max_iter=1000, class_weight=\"balanced\", C=C_val, random_state=123))\n",
    "    results[\"LogisticRegression with C value: \" + str(C_val)] = mean_std_cross_val_scores(pipe_lr, X_train, y_train, cv=5, return_train_score=True, scoring=scoring)\n",
    "    \n",
    "\n",
    "pd.DataFrame(results).T\n",
    "\n",
    "\n",
    "# mean_cv_score_arr = []\n",
    "# mean_train_score_arr = []\n",
    "\n",
    "\n",
    "\n",
    "# print(depths)\n",
    "\n",
    "# for C_val in C_vals:\n",
    "#     pipe_lr = make_pipeline(preprocessor, LogisticRegression(max_iter = 1000, C = C_val))\n",
    "#     lr_cv_scores = cross_validate(pipe_lr, X_train, y_train, cv=5, return_train_score=True)\n",
    "    \n",
    "#     df_lr_cv_scores = pd.DataFrame(lr_cv_scores)\n",
    "#     df_lr_scores_descript = df_lr_cv_scores.describe()\n",
    "    \n",
    "#     mean_cv_score_arr.append(df_lr_scores_descript.loc[\"mean\", \"test_score\"])\n",
    "#     mean_train_score_arr.append(df_lr_scores_descript.loc[\"mean\", \"train_score\"])\n",
    "\n",
    "    \n",
    "# # graph the data\n",
    "# plt.xlabel(\"C value\")\n",
    "# plt.ylabel(\"Score\")\n",
    "# plt.title(\"Score vs C value of 5-fold cross validation\")\n",
    "    \n",
    "# plt.plot(mean_cv_score_arr, label='mean cv score')\n",
    "# plt.plot(mean_train_score_arr, label='mean train score')\n",
    "    \n",
    "# plt.legend();\n",
    "# plt.show()"
   ]
  },
  {
   "cell_type": "markdown",
   "metadata": {
    "tags": []
   },
   "source": [
    "The validation f1 scores are almost identical for all logistic regression models as being either 41.4, 41.5, or 41.6%. Therefore, I'll look at validation accuracy score to assess these. According to the results, all the C-value used (0.01, 0.03, 0.1, 0.3, 1, 3, 10, 31), the highest validation acciracy score is at 54.5% for C value = 0.1, while the train score is also at 54.4%. This likely indicates underfitting. Therefore, I will use the C-value tested: C=0.1 compared to the larger values, since we will benefit from a less complex model that will likely generalize better to unseen data and also because it has the highest f1 validation score of 41.6%."
   ]
  },
  {
   "cell_type": "markdown",
   "metadata": {},
   "source": [
    "<br><br>"
   ]
  },
  {
   "cell_type": "markdown",
   "metadata": {},
   "source": [
    "## 8. Different classifiers <a name=\"8\"></a>\n",
    "<hr>\n",
    "rubric={points:15}\n",
    "\n",
    "**Your tasks:**\n",
    "1. Try at least 3 other models aside from logistic regression. At least one of these models should be a tree-based ensemble model (e.g., lgbm, random forest, xgboost). \n",
    "2. Summarize your results. Can you beat logistic regression? "
   ]
  },
  {
   "cell_type": "code",
   "execution_count": 12,
   "metadata": {},
   "outputs": [
    {
     "data": {
      "text/html": [
       "<div>\n",
       "<style scoped>\n",
       "    .dataframe tbody tr th:only-of-type {\n",
       "        vertical-align: middle;\n",
       "    }\n",
       "\n",
       "    .dataframe tbody tr th {\n",
       "        vertical-align: top;\n",
       "    }\n",
       "\n",
       "    .dataframe thead th {\n",
       "        text-align: right;\n",
       "    }\n",
       "</style>\n",
       "<table border=\"1\" class=\"dataframe\">\n",
       "  <thead>\n",
       "    <tr style=\"text-align: right;\">\n",
       "      <th></th>\n",
       "      <th>fit_time</th>\n",
       "      <th>score_time</th>\n",
       "      <th>test_accuracy</th>\n",
       "      <th>train_accuracy</th>\n",
       "      <th>test_f1</th>\n",
       "      <th>train_f1</th>\n",
       "      <th>test_recall</th>\n",
       "      <th>train_recall</th>\n",
       "      <th>test_precision</th>\n",
       "      <th>train_precision</th>\n",
       "    </tr>\n",
       "  </thead>\n",
       "  <tbody>\n",
       "    <tr>\n",
       "      <th>Dummy</th>\n",
       "      <td>0.018 (+/- 0.020)</td>\n",
       "      <td>0.006 (+/- 0.001)</td>\n",
       "      <td>0.777 (+/- 0.000)</td>\n",
       "      <td>0.777 (+/- 0.000)</td>\n",
       "      <td>0.000 (+/- 0.000)</td>\n",
       "      <td>0.000 (+/- 0.000)</td>\n",
       "      <td>0.000 (+/- 0.000)</td>\n",
       "      <td>0.000 (+/- 0.000)</td>\n",
       "      <td>0.000 (+/- 0.000)</td>\n",
       "      <td>0.000 (+/- 0.000)</td>\n",
       "    </tr>\n",
       "    <tr>\n",
       "      <th>LogisticRegression with C value: 0.01</th>\n",
       "      <td>0.040 (+/- 0.004)</td>\n",
       "      <td>0.007 (+/- 0.001)</td>\n",
       "      <td>0.543 (+/- 0.003)</td>\n",
       "      <td>0.544 (+/- 0.002)</td>\n",
       "      <td>0.414 (+/- 0.007)</td>\n",
       "      <td>0.416 (+/- 0.001)</td>\n",
       "      <td>0.724 (+/- 0.016)</td>\n",
       "      <td>0.727 (+/- 0.003)</td>\n",
       "      <td>0.290 (+/- 0.004)</td>\n",
       "      <td>0.291 (+/- 0.001)</td>\n",
       "    </tr>\n",
       "    <tr>\n",
       "      <th>LogisticRegression with C value: 0.03162277660168379</th>\n",
       "      <td>0.052 (+/- 0.003)</td>\n",
       "      <td>0.006 (+/- 0.000)</td>\n",
       "      <td>0.544 (+/- 0.003)</td>\n",
       "      <td>0.544 (+/- 0.002)</td>\n",
       "      <td>0.416 (+/- 0.007)</td>\n",
       "      <td>0.415 (+/- 0.002)</td>\n",
       "      <td>0.727 (+/- 0.016)</td>\n",
       "      <td>0.726 (+/- 0.003)</td>\n",
       "      <td>0.291 (+/- 0.004)</td>\n",
       "      <td>0.291 (+/- 0.001)</td>\n",
       "    </tr>\n",
       "    <tr>\n",
       "      <th>LogisticRegression with C value: 0.1</th>\n",
       "      <td>0.063 (+/- 0.006)</td>\n",
       "      <td>0.006 (+/- 0.001)</td>\n",
       "      <td>0.545 (+/- 0.003)</td>\n",
       "      <td>0.544 (+/- 0.002)</td>\n",
       "      <td>0.416 (+/- 0.007)</td>\n",
       "      <td>0.415 (+/- 0.002)</td>\n",
       "      <td>0.728 (+/- 0.017)</td>\n",
       "      <td>0.726 (+/- 0.004)</td>\n",
       "      <td>0.292 (+/- 0.004)</td>\n",
       "      <td>0.291 (+/- 0.002)</td>\n",
       "    </tr>\n",
       "    <tr>\n",
       "      <th>LogisticRegression with C value: 0.31622776601683794</th>\n",
       "      <td>0.075 (+/- 0.005)</td>\n",
       "      <td>0.006 (+/- 0.001)</td>\n",
       "      <td>0.544 (+/- 0.003)</td>\n",
       "      <td>0.544 (+/- 0.002)</td>\n",
       "      <td>0.416 (+/- 0.007)</td>\n",
       "      <td>0.416 (+/- 0.002)</td>\n",
       "      <td>0.727 (+/- 0.017)</td>\n",
       "      <td>0.726 (+/- 0.004)</td>\n",
       "      <td>0.291 (+/- 0.004)</td>\n",
       "      <td>0.291 (+/- 0.002)</td>\n",
       "    </tr>\n",
       "    <tr>\n",
       "      <th>LogisticRegression with C value: 1.0</th>\n",
       "      <td>0.062 (+/- 0.008)</td>\n",
       "      <td>0.006 (+/- 0.000)</td>\n",
       "      <td>0.544 (+/- 0.003)</td>\n",
       "      <td>0.544 (+/- 0.002)</td>\n",
       "      <td>0.416 (+/- 0.007)</td>\n",
       "      <td>0.416 (+/- 0.002)</td>\n",
       "      <td>0.727 (+/- 0.017)</td>\n",
       "      <td>0.726 (+/- 0.004)</td>\n",
       "      <td>0.291 (+/- 0.004)</td>\n",
       "      <td>0.291 (+/- 0.002)</td>\n",
       "    </tr>\n",
       "    <tr>\n",
       "      <th>LogisticRegression with C value: 3.1622776601683795</th>\n",
       "      <td>0.055 (+/- 0.004)</td>\n",
       "      <td>0.006 (+/- 0.000)</td>\n",
       "      <td>0.544 (+/- 0.003)</td>\n",
       "      <td>0.544 (+/- 0.002)</td>\n",
       "      <td>0.416 (+/- 0.007)</td>\n",
       "      <td>0.416 (+/- 0.002)</td>\n",
       "      <td>0.727 (+/- 0.017)</td>\n",
       "      <td>0.726 (+/- 0.004)</td>\n",
       "      <td>0.291 (+/- 0.004)</td>\n",
       "      <td>0.291 (+/- 0.001)</td>\n",
       "    </tr>\n",
       "    <tr>\n",
       "      <th>LogisticRegression with C value: 10.0</th>\n",
       "      <td>0.058 (+/- 0.005)</td>\n",
       "      <td>0.007 (+/- 0.001)</td>\n",
       "      <td>0.544 (+/- 0.003)</td>\n",
       "      <td>0.544 (+/- 0.002)</td>\n",
       "      <td>0.415 (+/- 0.007)</td>\n",
       "      <td>0.416 (+/- 0.002)</td>\n",
       "      <td>0.726 (+/- 0.018)</td>\n",
       "      <td>0.726 (+/- 0.004)</td>\n",
       "      <td>0.291 (+/- 0.004)</td>\n",
       "      <td>0.291 (+/- 0.002)</td>\n",
       "    </tr>\n",
       "    <tr>\n",
       "      <th>LogisticRegression with C value: 31.622776601683793</th>\n",
       "      <td>0.053 (+/- 0.003)</td>\n",
       "      <td>0.006 (+/- 0.000)</td>\n",
       "      <td>0.544 (+/- 0.004)</td>\n",
       "      <td>0.544 (+/- 0.002)</td>\n",
       "      <td>0.416 (+/- 0.007)</td>\n",
       "      <td>0.416 (+/- 0.002)</td>\n",
       "      <td>0.726 (+/- 0.018)</td>\n",
       "      <td>0.726 (+/- 0.004)</td>\n",
       "      <td>0.291 (+/- 0.004)</td>\n",
       "      <td>0.291 (+/- 0.002)</td>\n",
       "    </tr>\n",
       "    <tr>\n",
       "      <th>lgbm</th>\n",
       "      <td>0.152 (+/- 0.008)</td>\n",
       "      <td>0.013 (+/- 0.001)</td>\n",
       "      <td>0.714 (+/- 0.007)</td>\n",
       "      <td>0.790 (+/- 0.003)</td>\n",
       "      <td>0.478 (+/- 0.010)</td>\n",
       "      <td>0.628 (+/- 0.005)</td>\n",
       "      <td>0.586 (+/- 0.016)</td>\n",
       "      <td>0.794 (+/- 0.012)</td>\n",
       "      <td>0.403 (+/- 0.010)</td>\n",
       "      <td>0.520 (+/- 0.005)</td>\n",
       "    </tr>\n",
       "    <tr>\n",
       "      <th>SVM RBF</th>\n",
       "      <td>17.558 (+/- 0.204)</td>\n",
       "      <td>5.507 (+/- 0.047)</td>\n",
       "      <td>0.552 (+/- 0.007)</td>\n",
       "      <td>0.565 (+/- 0.005)</td>\n",
       "      <td>0.432 (+/- 0.008)</td>\n",
       "      <td>0.449 (+/- 0.002)</td>\n",
       "      <td>0.761 (+/- 0.017)</td>\n",
       "      <td>0.794 (+/- 0.004)</td>\n",
       "      <td>0.301 (+/- 0.006)</td>\n",
       "      <td>0.313 (+/- 0.003)</td>\n",
       "    </tr>\n",
       "    <tr>\n",
       "      <th>random forest</th>\n",
       "      <td>1.261 (+/- 0.790)</td>\n",
       "      <td>0.048 (+/- 0.012)</td>\n",
       "      <td>0.788 (+/- 0.007)</td>\n",
       "      <td>0.998 (+/- 0.000)</td>\n",
       "      <td>0.296 (+/- 0.027)</td>\n",
       "      <td>0.995 (+/- 0.000)</td>\n",
       "      <td>0.201 (+/- 0.020)</td>\n",
       "      <td>0.999 (+/- 0.001)</td>\n",
       "      <td>0.569 (+/- 0.045)</td>\n",
       "      <td>0.991 (+/- 0.001)</td>\n",
       "    </tr>\n",
       "  </tbody>\n",
       "</table>\n",
       "</div>"
      ],
      "text/plain": [
       "                                                              fit_time  \\\n",
       "Dummy                                                0.018 (+/- 0.020)   \n",
       "LogisticRegression with C value: 0.01                0.040 (+/- 0.004)   \n",
       "LogisticRegression with C value: 0.031622776601...   0.052 (+/- 0.003)   \n",
       "LogisticRegression with C value: 0.1                 0.063 (+/- 0.006)   \n",
       "LogisticRegression with C value: 0.316227766016...   0.075 (+/- 0.005)   \n",
       "LogisticRegression with C value: 1.0                 0.062 (+/- 0.008)   \n",
       "LogisticRegression with C value: 3.162277660168...   0.055 (+/- 0.004)   \n",
       "LogisticRegression with C value: 10.0                0.058 (+/- 0.005)   \n",
       "LogisticRegression with C value: 31.62277660168...   0.053 (+/- 0.003)   \n",
       "lgbm                                                 0.152 (+/- 0.008)   \n",
       "SVM RBF                                             17.558 (+/- 0.204)   \n",
       "random forest                                        1.261 (+/- 0.790)   \n",
       "\n",
       "                                                           score_time  \\\n",
       "Dummy                                               0.006 (+/- 0.001)   \n",
       "LogisticRegression with C value: 0.01               0.007 (+/- 0.001)   \n",
       "LogisticRegression with C value: 0.031622776601...  0.006 (+/- 0.000)   \n",
       "LogisticRegression with C value: 0.1                0.006 (+/- 0.001)   \n",
       "LogisticRegression with C value: 0.316227766016...  0.006 (+/- 0.001)   \n",
       "LogisticRegression with C value: 1.0                0.006 (+/- 0.000)   \n",
       "LogisticRegression with C value: 3.162277660168...  0.006 (+/- 0.000)   \n",
       "LogisticRegression with C value: 10.0               0.007 (+/- 0.001)   \n",
       "LogisticRegression with C value: 31.62277660168...  0.006 (+/- 0.000)   \n",
       "lgbm                                                0.013 (+/- 0.001)   \n",
       "SVM RBF                                             5.507 (+/- 0.047)   \n",
       "random forest                                       0.048 (+/- 0.012)   \n",
       "\n",
       "                                                        test_accuracy  \\\n",
       "Dummy                                               0.777 (+/- 0.000)   \n",
       "LogisticRegression with C value: 0.01               0.543 (+/- 0.003)   \n",
       "LogisticRegression with C value: 0.031622776601...  0.544 (+/- 0.003)   \n",
       "LogisticRegression with C value: 0.1                0.545 (+/- 0.003)   \n",
       "LogisticRegression with C value: 0.316227766016...  0.544 (+/- 0.003)   \n",
       "LogisticRegression with C value: 1.0                0.544 (+/- 0.003)   \n",
       "LogisticRegression with C value: 3.162277660168...  0.544 (+/- 0.003)   \n",
       "LogisticRegression with C value: 10.0               0.544 (+/- 0.003)   \n",
       "LogisticRegression with C value: 31.62277660168...  0.544 (+/- 0.004)   \n",
       "lgbm                                                0.714 (+/- 0.007)   \n",
       "SVM RBF                                             0.552 (+/- 0.007)   \n",
       "random forest                                       0.788 (+/- 0.007)   \n",
       "\n",
       "                                                       train_accuracy  \\\n",
       "Dummy                                               0.777 (+/- 0.000)   \n",
       "LogisticRegression with C value: 0.01               0.544 (+/- 0.002)   \n",
       "LogisticRegression with C value: 0.031622776601...  0.544 (+/- 0.002)   \n",
       "LogisticRegression with C value: 0.1                0.544 (+/- 0.002)   \n",
       "LogisticRegression with C value: 0.316227766016...  0.544 (+/- 0.002)   \n",
       "LogisticRegression with C value: 1.0                0.544 (+/- 0.002)   \n",
       "LogisticRegression with C value: 3.162277660168...  0.544 (+/- 0.002)   \n",
       "LogisticRegression with C value: 10.0               0.544 (+/- 0.002)   \n",
       "LogisticRegression with C value: 31.62277660168...  0.544 (+/- 0.002)   \n",
       "lgbm                                                0.790 (+/- 0.003)   \n",
       "SVM RBF                                             0.565 (+/- 0.005)   \n",
       "random forest                                       0.998 (+/- 0.000)   \n",
       "\n",
       "                                                              test_f1  \\\n",
       "Dummy                                               0.000 (+/- 0.000)   \n",
       "LogisticRegression with C value: 0.01               0.414 (+/- 0.007)   \n",
       "LogisticRegression with C value: 0.031622776601...  0.416 (+/- 0.007)   \n",
       "LogisticRegression with C value: 0.1                0.416 (+/- 0.007)   \n",
       "LogisticRegression with C value: 0.316227766016...  0.416 (+/- 0.007)   \n",
       "LogisticRegression with C value: 1.0                0.416 (+/- 0.007)   \n",
       "LogisticRegression with C value: 3.162277660168...  0.416 (+/- 0.007)   \n",
       "LogisticRegression with C value: 10.0               0.415 (+/- 0.007)   \n",
       "LogisticRegression with C value: 31.62277660168...  0.416 (+/- 0.007)   \n",
       "lgbm                                                0.478 (+/- 0.010)   \n",
       "SVM RBF                                             0.432 (+/- 0.008)   \n",
       "random forest                                       0.296 (+/- 0.027)   \n",
       "\n",
       "                                                             train_f1  \\\n",
       "Dummy                                               0.000 (+/- 0.000)   \n",
       "LogisticRegression with C value: 0.01               0.416 (+/- 0.001)   \n",
       "LogisticRegression with C value: 0.031622776601...  0.415 (+/- 0.002)   \n",
       "LogisticRegression with C value: 0.1                0.415 (+/- 0.002)   \n",
       "LogisticRegression with C value: 0.316227766016...  0.416 (+/- 0.002)   \n",
       "LogisticRegression with C value: 1.0                0.416 (+/- 0.002)   \n",
       "LogisticRegression with C value: 3.162277660168...  0.416 (+/- 0.002)   \n",
       "LogisticRegression with C value: 10.0               0.416 (+/- 0.002)   \n",
       "LogisticRegression with C value: 31.62277660168...  0.416 (+/- 0.002)   \n",
       "lgbm                                                0.628 (+/- 0.005)   \n",
       "SVM RBF                                             0.449 (+/- 0.002)   \n",
       "random forest                                       0.995 (+/- 0.000)   \n",
       "\n",
       "                                                          test_recall  \\\n",
       "Dummy                                               0.000 (+/- 0.000)   \n",
       "LogisticRegression with C value: 0.01               0.724 (+/- 0.016)   \n",
       "LogisticRegression with C value: 0.031622776601...  0.727 (+/- 0.016)   \n",
       "LogisticRegression with C value: 0.1                0.728 (+/- 0.017)   \n",
       "LogisticRegression with C value: 0.316227766016...  0.727 (+/- 0.017)   \n",
       "LogisticRegression with C value: 1.0                0.727 (+/- 0.017)   \n",
       "LogisticRegression with C value: 3.162277660168...  0.727 (+/- 0.017)   \n",
       "LogisticRegression with C value: 10.0               0.726 (+/- 0.018)   \n",
       "LogisticRegression with C value: 31.62277660168...  0.726 (+/- 0.018)   \n",
       "lgbm                                                0.586 (+/- 0.016)   \n",
       "SVM RBF                                             0.761 (+/- 0.017)   \n",
       "random forest                                       0.201 (+/- 0.020)   \n",
       "\n",
       "                                                         train_recall  \\\n",
       "Dummy                                               0.000 (+/- 0.000)   \n",
       "LogisticRegression with C value: 0.01               0.727 (+/- 0.003)   \n",
       "LogisticRegression with C value: 0.031622776601...  0.726 (+/- 0.003)   \n",
       "LogisticRegression with C value: 0.1                0.726 (+/- 0.004)   \n",
       "LogisticRegression with C value: 0.316227766016...  0.726 (+/- 0.004)   \n",
       "LogisticRegression with C value: 1.0                0.726 (+/- 0.004)   \n",
       "LogisticRegression with C value: 3.162277660168...  0.726 (+/- 0.004)   \n",
       "LogisticRegression with C value: 10.0               0.726 (+/- 0.004)   \n",
       "LogisticRegression with C value: 31.62277660168...  0.726 (+/- 0.004)   \n",
       "lgbm                                                0.794 (+/- 0.012)   \n",
       "SVM RBF                                             0.794 (+/- 0.004)   \n",
       "random forest                                       0.999 (+/- 0.001)   \n",
       "\n",
       "                                                       test_precision  \\\n",
       "Dummy                                               0.000 (+/- 0.000)   \n",
       "LogisticRegression with C value: 0.01               0.290 (+/- 0.004)   \n",
       "LogisticRegression with C value: 0.031622776601...  0.291 (+/- 0.004)   \n",
       "LogisticRegression with C value: 0.1                0.292 (+/- 0.004)   \n",
       "LogisticRegression with C value: 0.316227766016...  0.291 (+/- 0.004)   \n",
       "LogisticRegression with C value: 1.0                0.291 (+/- 0.004)   \n",
       "LogisticRegression with C value: 3.162277660168...  0.291 (+/- 0.004)   \n",
       "LogisticRegression with C value: 10.0               0.291 (+/- 0.004)   \n",
       "LogisticRegression with C value: 31.62277660168...  0.291 (+/- 0.004)   \n",
       "lgbm                                                0.403 (+/- 0.010)   \n",
       "SVM RBF                                             0.301 (+/- 0.006)   \n",
       "random forest                                       0.569 (+/- 0.045)   \n",
       "\n",
       "                                                      train_precision  \n",
       "Dummy                                               0.000 (+/- 0.000)  \n",
       "LogisticRegression with C value: 0.01               0.291 (+/- 0.001)  \n",
       "LogisticRegression with C value: 0.031622776601...  0.291 (+/- 0.001)  \n",
       "LogisticRegression with C value: 0.1                0.291 (+/- 0.002)  \n",
       "LogisticRegression with C value: 0.316227766016...  0.291 (+/- 0.002)  \n",
       "LogisticRegression with C value: 1.0                0.291 (+/- 0.002)  \n",
       "LogisticRegression with C value: 3.162277660168...  0.291 (+/- 0.001)  \n",
       "LogisticRegression with C value: 10.0               0.291 (+/- 0.002)  \n",
       "LogisticRegression with C value: 31.62277660168...  0.291 (+/- 0.002)  \n",
       "lgbm                                                0.520 (+/- 0.005)  \n",
       "SVM RBF                                             0.313 (+/- 0.003)  \n",
       "random forest                                       0.991 (+/- 0.001)  "
      ]
     },
     "execution_count": 12,
     "metadata": {},
     "output_type": "execute_result"
    }
   ],
   "source": [
    "# lgbm\n",
    "# svm\n",
    "# random forest\n",
    "\n",
    "models = {\n",
    "    \"lgbm\": LGBMClassifier(random_state=123, class_weight=\"balanced\"),\n",
    "    \"SVM RBF\": SVC(random_state=123, class_weight=\"balanced\"),\n",
    "    \"random forest\": RandomForestClassifier(random_state=123, n_jobs=-1, class_weight=\"balanced\")\n",
    "}\n",
    "\n",
    "\n",
    "for name, model in models.items():\n",
    "    pipe_model = make_pipeline(preprocessor, model)\n",
    "    \n",
    "    results[name] = mean_std_cross_val_scores(\n",
    "        pipe_model, X_train, y_train, cv=5, return_train_score=True, scoring=scoring\n",
    "    )\n",
    "    \n",
    "    \n",
    "pd.DataFrame(results).T"
   ]
  },
  {
   "cell_type": "markdown",
   "metadata": {},
   "source": [
    "Yes, Logistic Regression can be beaten by both LGBM and Random Forest, as each have a higher validation f1 score and accuracy score. LGBM has the highest f1 validation score of 47.8% where as Random Forest has the highest cross-validation accuracy of 78.8%. Logistic Regression/SVM-RBF have comparable scores of about 54.5% accuracy and 42% f1 score. Note that LGBM has slightly longer fit_time than Logistic Regression, but shorter than Random Forest. SVM RBF has a similar validation score as Logisitc Regression but has a MUCH slower fit_time which means worse performance.\n",
    "\n",
    "\n",
    "While random forest has the highest cross-validation accuracy, it also have the worst f1 score out of all the non-dummy models. Therefore, I will pick LGBM, because as argued previously, both precision/recall are important for a credit-card company, and this model provides the best f1-score along with the second best accuracy score."
   ]
  },
  {
   "cell_type": "markdown",
   "metadata": {},
   "source": [
    "<br><br>"
   ]
  },
  {
   "cell_type": "markdown",
   "metadata": {},
   "source": [
    "## (Optional) 9. Feature selection <a name=\"9\"></a>\n",
    "<hr>\n",
    "rubric={points:1}\n",
    "\n",
    "**Your tasks:**\n",
    "\n",
    "Make some attempts to select relevant features. You may try `RFECV` or forward selection. Do the results improve with feature selection? Summarize your results. If you see improvements in the results, keep feature selection in your pipeline. If not, you may abandon it in the next exercises. "
   ]
  },
  {
   "cell_type": "markdown",
   "metadata": {},
   "source": []
  },
  {
   "cell_type": "code",
   "execution_count": null,
   "metadata": {},
   "outputs": [],
   "source": []
  },
  {
   "cell_type": "markdown",
   "metadata": {},
   "source": [
    "<br><br>"
   ]
  },
  {
   "cell_type": "markdown",
   "metadata": {},
   "source": [
    "## 10. Hyperparameter optimization <a name=\"10\"></a>\n",
    "<hr>\n",
    "rubric={points:15}\n",
    "\n",
    "**Your tasks:**\n",
    "\n",
    "Make some attempts to optimize hyperparameters for the models you've tried and summarize your results. You may pick one of the best performing models from the previous exercise and tune hyperparameters only for that model. You may use `sklearn`'s methods for hyperparameter optimization or fancier Bayesian optimization methods. \n",
    "  - [GridSearchCV](http://scikit-learn.org/stable/modules/generated/sklearn.model_selection.GridSearchCV.html)   \n",
    "  - [RandomizedSearchCV](http://scikit-learn.org/stable/modules/generated/sklearn.model_selection.RandomizedSearchCV.html)\n",
    "  - [scikit-optimize](https://github.com/scikit-optimize/scikit-optimize)"
   ]
  },
  {
   "cell_type": "markdown",
   "metadata": {},
   "source": []
  },
  {
   "cell_type": "code",
   "execution_count": 13,
   "metadata": {},
   "outputs": [],
   "source": [
    "\n",
    "# # powers of 10\n",
    "# sample_parameter_vals = list(10 ** np.arange(1, 4, 1))\n",
    "# integersZeroToNine = list(range(0,10))\n",
    "# integersOneToNine = list(range(1,10))\n",
    "# integersTwoToNine = list(range(2,10))\n",
    "# depths = list(range(0,15))\n",
    "\n",
    "\n",
    "# sample_vals_concat_zero_plus =  integersZeroToNine + sample_parameter_vals\n",
    "# sample_vals_concat_one_plus = integersOneToNine + sample_parameter_vals\n",
    "# sample_vals_concat_two_plus = integersTwoToNine + sample_parameter_vals\n",
    "\n",
    "\n",
    "\n",
    "# print(sample_vals_concat)\n",
    "\n",
    "# # n_estimator_vals = np.logspace(-2, 2, 4)\n",
    "# # learning_rate_vals = np.logspace(-2, 2, 4)\n",
    "# # num_iterations_vals = np.logspace(-2, 2, 4)\n",
    "# # depths = list(range(1,26))\n",
    "\n",
    "# # C_vals = 10.0 ** np.arange(-2, 2, 0.5)\n",
    "\n",
    "\n",
    "# # print(n_estimator_vals)\n",
    "# # print(learning_rate_vals)\n",
    "\n",
    "\n",
    "# param_grid = {\n",
    "#     \"lgbmclassifier__num_leaves\": sample_vals_concat_two_plus, \n",
    "#     # \"lgbmclassifier__min_data_in_leaf\": sample_vals_concat_one_plus,\n",
    "#    \"lgbmclassifier__max_depth\": depths,\n",
    "#     \"lgbmclassifier__n_estimators\": sample_vals_concat_zero_plus, \n",
    "#     \"lgbmclassifier__learning_rate\": sample_vals_concat_one_plus,\n",
    "    \n",
    "# }\n",
    "\n",
    "# # scoring=\"accuracy\"\n",
    "\n",
    "# pipe_lgbm = make_pipeline(preprocessor, LGBMClassifier(random_state=123))\n",
    "\n",
    "# grid_search = GridSearchCV(pipe_lgbm, param_grid, cv=2, n_jobs=-1, return_train_score=True, scoring=\"f1\")\n",
    "# grid_search.fit(X_train,y_train)\n",
    "# print(grid_search.best_score_)\n",
    "# print(grid_search.best_params_)"
   ]
  },
  {
   "cell_type": "code",
   "execution_count": 77,
   "metadata": {},
   "outputs": [
    {
     "name": "stdout",
     "output_type": "stream",
     "text": [
      "0.4153679373237301\n",
      "{'lgbmclassifier__n_estimators': 7, 'lgbmclassifier__learning_rate': 1000}\n"
     ]
    }
   ],
   "source": [
    "\n",
    "# powers of 10\n",
    "sample_parameter_vals = list(10 ** np.arange(1, 4, 1))\n",
    "integersZeroToNine = list(range(0,10))\n",
    "integersOneToNine = list(range(1,10))\n",
    "integersTwoToNine = list(range(2,10))\n",
    "depths = list(range(0,15))\n",
    "\n",
    "\n",
    "sample_vals_concat_zero_plus =  integersZeroToNine + sample_parameter_vals\n",
    "sample_vals_concat_one_plus = integersOneToNine + sample_parameter_vals\n",
    "sample_vals_concat_two_plus = integersTwoToNine + sample_parameter_vals\n",
    "\n",
    "\n",
    "param_grid = {\n",
    "    # \"lgbmclassifier__num_leaves\": sample_vals_concat_two_plus, \n",
    "    # \"lgbmclassifier__min_data_in_leaf\": sample_vals_concat_one_plus,\n",
    "   # \"lgbmclassifier__max_depth\": depths,\n",
    "    \"lgbmclassifier__n_estimators\": sample_vals_concat_zero_plus, \n",
    "    \"lgbmclassifier__learning_rate\": sample_vals_concat_one_plus,\n",
    "    \n",
    "}\n",
    "\n",
    "\n",
    "pipe_lgbm = make_pipeline(preprocessor, LGBMClassifier(random_state=123, class_weight=\"balanced\"))\n",
    "\n",
    "random_search = RandomizedSearchCV(pipe_lgbm, param_grid, cv=2, n_jobs=-1, return_train_score=True, scoring=\"f1\")\n",
    "random_search.fit(X_train,y_train)\n",
    "print(random_search.best_score_)\n",
    "print(random_search.best_params_)"
   ]
  },
  {
   "cell_type": "markdown",
   "metadata": {},
   "source": [
    "The best hyperparameters for LGBMClassifer: n_estimators = 9 and learning_rate = 2."
   ]
  },
  {
   "cell_type": "markdown",
   "metadata": {},
   "source": [
    "<br><br>"
   ]
  },
  {
   "cell_type": "markdown",
   "metadata": {},
   "source": [
    "## 11. Interpretation and feature importances <a name=\"1\"></a>\n",
    "<hr>\n",
    "rubric={points:15}\n",
    "\n",
    "**Your tasks:**\n",
    "\n",
    "1. Use the methods we saw in class (e.g., `eli5`, `shap`) (or any other methods of your choice) to explain feature importances of one of the best performing models. Summarize your observations. "
   ]
  },
  {
   "cell_type": "code",
   "execution_count": 78,
   "metadata": {},
   "outputs": [
    {
     "data": {
      "text/html": [
       "\n",
       "    <style>\n",
       "    table.eli5-weights tr:hover {\n",
       "        filter: brightness(85%);\n",
       "    }\n",
       "</style>\n",
       "\n",
       "\n",
       "\n",
       "    \n",
       "\n",
       "    \n",
       "\n",
       "    \n",
       "\n",
       "    \n",
       "\n",
       "    \n",
       "\n",
       "    \n",
       "\n",
       "\n",
       "    \n",
       "\n",
       "    \n",
       "\n",
       "    \n",
       "\n",
       "    \n",
       "\n",
       "    \n",
       "\n",
       "    \n",
       "\n",
       "\n",
       "    \n",
       "\n",
       "    \n",
       "\n",
       "    \n",
       "\n",
       "    \n",
       "\n",
       "    \n",
       "        <table class=\"eli5-weights eli5-feature-importances\" style=\"border-collapse: collapse; border: none; margin-top: 0em; table-layout: auto;\">\n",
       "    <thead>\n",
       "    <tr style=\"border: none;\">\n",
       "        <th style=\"padding: 0 1em 0 0.5em; text-align: right; border: none;\">Weight</th>\n",
       "        <th style=\"padding: 0 0.5em 0 0.5em; text-align: left; border: none;\">Feature</th>\n",
       "    </tr>\n",
       "    </thead>\n",
       "    <tbody>\n",
       "    \n",
       "        <tr style=\"background-color: hsl(120, 100.00%, 80.00%); border: none;\">\n",
       "            <td style=\"padding: 0 1em 0 0.5em; text-align: right; border: none;\">\n",
       "                0.2166\n",
       "                \n",
       "            </td>\n",
       "            <td style=\"padding: 0 0.5em 0 0.5em; text-align: left; border: none;\">\n",
       "                LIMIT_BAL\n",
       "            </td>\n",
       "        </tr>\n",
       "    \n",
       "        <tr style=\"background-color: hsl(120, 100.00%, 80.63%); border: none;\">\n",
       "            <td style=\"padding: 0 1em 0 0.5em; text-align: right; border: none;\">\n",
       "                0.2068\n",
       "                \n",
       "            </td>\n",
       "            <td style=\"padding: 0 0.5em 0 0.5em; text-align: left; border: none;\">\n",
       "                PAY_AMT1\n",
       "            </td>\n",
       "        </tr>\n",
       "    \n",
       "        <tr style=\"background-color: hsl(120, 100.00%, 85.56%); border: none;\">\n",
       "            <td style=\"padding: 0 1em 0 0.5em; text-align: right; border: none;\">\n",
       "                0.1359\n",
       "                \n",
       "            </td>\n",
       "            <td style=\"padding: 0 0.5em 0 0.5em; text-align: left; border: none;\">\n",
       "                PAY_AMT2\n",
       "            </td>\n",
       "        </tr>\n",
       "    \n",
       "        <tr style=\"background-color: hsl(120, 100.00%, 87.83%); border: none;\">\n",
       "            <td style=\"padding: 0 1em 0 0.5em; text-align: right; border: none;\">\n",
       "                0.1065\n",
       "                \n",
       "            </td>\n",
       "            <td style=\"padding: 0 0.5em 0 0.5em; text-align: left; border: none;\">\n",
       "                PAY_AMT3\n",
       "            </td>\n",
       "        </tr>\n",
       "    \n",
       "        <tr style=\"background-color: hsl(120, 100.00%, 88.86%); border: none;\">\n",
       "            <td style=\"padding: 0 1em 0 0.5em; text-align: right; border: none;\">\n",
       "                0.0939\n",
       "                \n",
       "            </td>\n",
       "            <td style=\"padding: 0 0.5em 0 0.5em; text-align: left; border: none;\">\n",
       "                BILL_AMT2\n",
       "            </td>\n",
       "        </tr>\n",
       "    \n",
       "        <tr style=\"background-color: hsl(120, 100.00%, 91.50%); border: none;\">\n",
       "            <td style=\"padding: 0 1em 0 0.5em; text-align: right; border: none;\">\n",
       "                0.0637\n",
       "                \n",
       "            </td>\n",
       "            <td style=\"padding: 0 0.5em 0 0.5em; text-align: left; border: none;\">\n",
       "                BILL_AMT3\n",
       "            </td>\n",
       "        </tr>\n",
       "    \n",
       "        <tr style=\"background-color: hsl(120, 100.00%, 93.09%); border: none;\">\n",
       "            <td style=\"padding: 0 1em 0 0.5em; text-align: right; border: none;\">\n",
       "                0.0475\n",
       "                \n",
       "            </td>\n",
       "            <td style=\"padding: 0 0.5em 0 0.5em; text-align: left; border: none;\">\n",
       "                BILL_AMT4\n",
       "            </td>\n",
       "        </tr>\n",
       "    \n",
       "        <tr style=\"background-color: hsl(120, 100.00%, 93.16%); border: none;\">\n",
       "            <td style=\"padding: 0 1em 0 0.5em; text-align: right; border: none;\">\n",
       "                0.0468\n",
       "                \n",
       "            </td>\n",
       "            <td style=\"padding: 0 0.5em 0 0.5em; text-align: left; border: none;\">\n",
       "                PAY_AMT4\n",
       "            </td>\n",
       "        </tr>\n",
       "    \n",
       "        <tr style=\"background-color: hsl(120, 100.00%, 94.35%); border: none;\">\n",
       "            <td style=\"padding: 0 1em 0 0.5em; text-align: right; border: none;\">\n",
       "                0.0356\n",
       "                \n",
       "            </td>\n",
       "            <td style=\"padding: 0 0.5em 0 0.5em; text-align: left; border: none;\">\n",
       "                BILL_AMT5\n",
       "            </td>\n",
       "        </tr>\n",
       "    \n",
       "        <tr style=\"background-color: hsl(120, 100.00%, 95.39%); border: none;\">\n",
       "            <td style=\"padding: 0 1em 0 0.5em; text-align: right; border: none;\">\n",
       "                0.0266\n",
       "                \n",
       "            </td>\n",
       "            <td style=\"padding: 0 0.5em 0 0.5em; text-align: left; border: none;\">\n",
       "                BILL_AMT6\n",
       "            </td>\n",
       "        </tr>\n",
       "    \n",
       "        <tr style=\"background-color: hsl(120, 100.00%, 97.33%); border: none;\">\n",
       "            <td style=\"padding: 0 1em 0 0.5em; text-align: right; border: none;\">\n",
       "                0.0122\n",
       "                \n",
       "            </td>\n",
       "            <td style=\"padding: 0 0.5em 0 0.5em; text-align: left; border: none;\">\n",
       "                PAY_AMT5\n",
       "            </td>\n",
       "        </tr>\n",
       "    \n",
       "        <tr style=\"background-color: hsl(120, 100.00%, 98.03%); border: none;\">\n",
       "            <td style=\"padding: 0 1em 0 0.5em; text-align: right; border: none;\">\n",
       "                0.0079\n",
       "                \n",
       "            </td>\n",
       "            <td style=\"padding: 0 0.5em 0 0.5em; text-align: left; border: none;\">\n",
       "                BILL_AMT1\n",
       "            </td>\n",
       "        </tr>\n",
       "    \n",
       "        <tr style=\"background-color: hsl(0, 100.00%, 100.00%); border: none;\">\n",
       "            <td style=\"padding: 0 1em 0 0.5em; text-align: right; border: none;\">\n",
       "                0\n",
       "                \n",
       "            </td>\n",
       "            <td style=\"padding: 0 0.5em 0 0.5em; text-align: left; border: none;\">\n",
       "                MARRIAGE_Married\n",
       "            </td>\n",
       "        </tr>\n",
       "    \n",
       "        <tr style=\"background-color: hsl(0, 100.00%, 100.00%); border: none;\">\n",
       "            <td style=\"padding: 0 1em 0 0.5em; text-align: right; border: none;\">\n",
       "                0\n",
       "                \n",
       "            </td>\n",
       "            <td style=\"padding: 0 0.5em 0 0.5em; text-align: left; border: none;\">\n",
       "                MARRIAGE_Divorce\n",
       "            </td>\n",
       "        </tr>\n",
       "    \n",
       "        <tr style=\"background-color: hsl(0, 100.00%, 100.00%); border: none;\">\n",
       "            <td style=\"padding: 0 1em 0 0.5em; text-align: right; border: none;\">\n",
       "                0\n",
       "                \n",
       "            </td>\n",
       "            <td style=\"padding: 0 0.5em 0 0.5em; text-align: left; border: none;\">\n",
       "                PAY_AMT6\n",
       "            </td>\n",
       "        </tr>\n",
       "    \n",
       "        <tr style=\"background-color: hsl(0, 100.00%, 100.00%); border: none;\">\n",
       "            <td style=\"padding: 0 1em 0 0.5em; text-align: right; border: none;\">\n",
       "                0\n",
       "                \n",
       "            </td>\n",
       "            <td style=\"padding: 0 0.5em 0 0.5em; text-align: left; border: none;\">\n",
       "                MARRIAGE_Others\n",
       "            </td>\n",
       "        </tr>\n",
       "    \n",
       "        <tr style=\"background-color: hsl(0, 100.00%, 100.00%); border: none;\">\n",
       "            <td style=\"padding: 0 1em 0 0.5em; text-align: right; border: none;\">\n",
       "                0\n",
       "                \n",
       "            </td>\n",
       "            <td style=\"padding: 0 0.5em 0 0.5em; text-align: left; border: none;\">\n",
       "                AGE\n",
       "            </td>\n",
       "        </tr>\n",
       "    \n",
       "        <tr style=\"background-color: hsl(0, 100.00%, 100.00%); border: none;\">\n",
       "            <td style=\"padding: 0 1em 0 0.5em; text-align: right; border: none;\">\n",
       "                0\n",
       "                \n",
       "            </td>\n",
       "            <td style=\"padding: 0 0.5em 0 0.5em; text-align: left; border: none;\">\n",
       "                MARRIAGE_Single\n",
       "            </td>\n",
       "        </tr>\n",
       "    \n",
       "    \n",
       "    </tbody>\n",
       "</table>\n",
       "    \n",
       "\n",
       "    \n",
       "\n",
       "\n",
       "    \n",
       "\n",
       "    \n",
       "\n",
       "    \n",
       "\n",
       "    \n",
       "\n",
       "    \n",
       "\n",
       "    \n",
       "\n",
       "\n",
       "\n"
      ],
      "text/plain": [
       "Explanation(estimator=\"LGBMClassifier(class_weight='balanced', learning_rate=1000, n_estimators=7,\\n               random_state=123)\", description='\\nLightGBM feature importances; values are numbers 0 <= x <= 1;\\nall values sum to 1.\\n', error=None, method='feature importances', is_regression=False, targets=None, feature_importances=FeatureImportances(importances=[FeatureWeight(feature='LIMIT_BAL', weight=0.21655493478314994, std=None, value=None), FeatureWeight(feature='PAY_AMT1', weight=0.20681474598771007, std=None, value=None), FeatureWeight(feature='PAY_AMT2', weight=0.13593354587639278, std=None, value=None), FeatureWeight(feature='PAY_AMT3', weight=0.106541166585494, std=None, value=None), FeatureWeight(feature='BILL_AMT2', weight=0.09387896592759537, std=None, value=None), FeatureWeight(feature='BILL_AMT3', weight=0.06374418608506155, std=None, value=None), FeatureWeight(feature='BILL_AMT4', weight=0.04747230666478107, std=None, value=None), FeatureWeight(feature='PAY_AMT4', weight=0.04678004846709867, std=None, value=None), FeatureWeight(feature='BILL_AMT5', weight=0.03560584240482265, std=None, value=None), FeatureWeight(feature='BILL_AMT6', weight=0.026585824995034514, std=None, value=None), FeatureWeight(feature='PAY_AMT5', weight=0.012205553291568354, std=None, value=None), FeatureWeight(feature='BILL_AMT1', weight=0.007882878931291021, std=None, value=None), FeatureWeight(feature='MARRIAGE_Married', weight=0.0, std=None, value=None), FeatureWeight(feature='MARRIAGE_Divorce', weight=0.0, std=None, value=None), FeatureWeight(feature='PAY_AMT6', weight=0.0, std=None, value=None), FeatureWeight(feature='MARRIAGE_Others', weight=0.0, std=None, value=None), FeatureWeight(feature='AGE', weight=0.0, std=None, value=None), FeatureWeight(feature='MARRIAGE_Single', weight=0.0, std=None, value=None)], remaining=0), decision_tree=None, highlight_spaces=None, transition_features=None, image=None)"
      ]
     },
     "execution_count": 78,
     "metadata": {},
     "output_type": "execute_result"
    }
   ],
   "source": [
    "import eli5\n",
    "set_config(display=\"diagram\")\n",
    "\n",
    "pipe_lgbm_optimal = make_pipeline(preprocessor, LGBMClassifier(random_state=123, n_estimators=7, learning_rate=1000, class_weight=\"balanced\"))\n",
    "\n",
    "pipe_lgbm_optimal.fit(X_train, y_train)\n",
    "\n",
    "ohe_columns = list(pipe_lgbm_optimal.named_steps[\"columntransformer\"].named_transformers_['onehotencoder'].get_feature_names_out(ohe_categ_cols))\n",
    "\n",
    "\n",
    "feature_names = numeric_features + ohe_columns\n",
    "\n",
    "\n",
    "                                  \n",
    "eli5.explain_weights(\n",
    "    pipe_lgbm_optimal.named_steps[\"lgbmclassifier\"], feature_names=feature_names\n",
    ")\n"
   ]
  },
  {
   "cell_type": "markdown",
   "metadata": {},
   "source": [
    "LIMIT_BAL is considered the most important feature for determining the target, followed by PAY_AMT1, then PAY_AMT2, and so on. AGE, PAY_AMT6, and all the Marital status values are considered useless by themselves in determining the target since they have a weight of 0."
   ]
  },
  {
   "cell_type": "markdown",
   "metadata": {},
   "source": [
    "<br><br>"
   ]
  },
  {
   "cell_type": "markdown",
   "metadata": {},
   "source": [
    "## 12. Results on the test set <a name=\"12\"></a>\n",
    "<hr>\n",
    "\n",
    "rubric={points:5}\n",
    "\n",
    "**Your tasks:**\n",
    "\n",
    "1. Try your best performing model on the test data and report test scores. \n",
    "2. Do the test scores agree with the validation scores from before? To what extent do you trust your results? Do you think you've had issues with optimization bias? "
   ]
  },
  {
   "cell_type": "code",
   "execution_count": 79,
   "metadata": {},
   "outputs": [
    {
     "data": {
      "text/plain": [
       "0.7108888888888889"
      ]
     },
     "execution_count": 79,
     "metadata": {},
     "output_type": "execute_result"
    }
   ],
   "source": [
    "pipe_lgbm_optimal.score(X_test, y_test)"
   ]
  },
  {
   "cell_type": "markdown",
   "metadata": {},
   "source": [
    "The test accuracy score is 71%. The validation accuracy score was also 71.4%. Therefore, the test score agrees well with the validation score, indicating that our model is likely trustworthy in its predictive ability, and does not suffer from optimization bias.\n",
    "\n",
    "I decided to use class_weight=\"balanced\" for every estimator, it is possible there might be a custom weight value that would be even more optimized to avoid potential optimization bias. I think the LGBM model is likely underfitting since the training score is only about 79%, so perhaps there are other hyperparameter values that will result in a more optimized model."
   ]
  },
  {
   "cell_type": "markdown",
   "metadata": {},
   "source": [
    "<br><br>"
   ]
  },
  {
   "cell_type": "markdown",
   "metadata": {},
   "source": [
    "## (Optional) 13. Explaining predictions \n",
    "rubric={points:1}\n",
    "\n",
    "**Your tasks**\n",
    "\n",
    "1. Take one or two test predictions and explain them with SHAP force plots.  "
   ]
  },
  {
   "cell_type": "markdown",
   "metadata": {},
   "source": []
  },
  {
   "cell_type": "code",
   "execution_count": null,
   "metadata": {},
   "outputs": [],
   "source": []
  },
  {
   "cell_type": "markdown",
   "metadata": {},
   "source": [
    "<br><br>"
   ]
  },
  {
   "cell_type": "markdown",
   "metadata": {},
   "source": [
    "## 14. Summary of results <a name=\"13\"></a>\n",
    "<hr>\n",
    "rubric={points:10}\n",
    "\n",
    "**Your tasks:**\n",
    "\n",
    "1. Report your final test score along with the metric you used. \n",
    "2. Write concluding remarks.\n",
    "3. Discuss other ideas that you did not try but could potentially improve the performance/interpretability . "
   ]
  },
  {
   "cell_type": "markdown",
   "metadata": {},
   "source": [
    "1) The final test score is 71% and the metric used was accuracy.\n",
    "\n",
    "2) I am surprised that my LGBM model determined that AGE has a weight of 0 in determining default/no default. \n",
    "I would have thought people who are working between 25-60 are likely to have no default, where as other age groups would have default. \n",
    "Perhaps this dataset mostly contained data for people between 25-60, and therefore this logical distinction was not learned.\n",
    "\n",
    "Otherwise, I am happy with the results, it has a test score of 71% which highly agrees with the validation score of 71%, indicating that there is very little optimization bias.\n",
    "\n",
    "3) While I used class_weight=\"balanced\", perhaps I could have tested various values for this field during hyperparameter optimization to find the optimal f1 score, \n",
    "to further optimize this model and likely achieve a higher test score."
   ]
  },
  {
   "cell_type": "markdown",
   "metadata": {},
   "source": [
    "<br><br><br><br>"
   ]
  },
  {
   "cell_type": "markdown",
   "metadata": {},
   "source": [
    "## Submission instructions \n",
    "\n",
    "**PLEASE READ:** When you are ready to submit your assignment do the following:\n",
    "\n",
    "1. Run all cells in your notebook to make sure there are no errors by doing `Kernel -> Restart Kernel and Clear All Outputs` and then `Run -> Run All Cells`. \n",
    "2. Notebooks with cell execution numbers out of order or not starting from “1” will have marks deducted. Notebooks without the output displayed may not be graded at all (because we need to see the output in order to grade your work).\n",
    "3. Upload the assignment using Gradescope's drag and drop tool. Check out this [Gradescope Student Guide](https://lthub.ubc.ca/guides/gradescope-student-guide/) if you need help with Gradescope submission. "
   ]
  }
 ],
 "metadata": {
  "kernelspec": {
   "display_name": "Python [conda env:cpsc330]",
   "language": "python",
   "name": "conda-env-cpsc330-py"
  },
  "language_info": {
   "codemirror_mode": {
    "name": "ipython",
    "version": 3
   },
   "file_extension": ".py",
   "mimetype": "text/x-python",
   "name": "python",
   "nbconvert_exporter": "python",
   "pygments_lexer": "ipython3",
   "version": "3.9.9"
  }
 },
 "nbformat": 4,
 "nbformat_minor": 4
}
